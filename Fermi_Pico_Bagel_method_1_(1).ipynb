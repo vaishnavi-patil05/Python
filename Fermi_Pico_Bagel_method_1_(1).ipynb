{
  "cells": [
    {
      "cell_type": "markdown",
      "metadata": {
        "id": "view-in-github",
        "colab_type": "text"
      },
      "source": [
        "<a href=\"https://colab.research.google.com/github/vaishnavi-patil05/Python/blob/main/Fermi_Pico_Bagel_method_1_(1).ipynb\" target=\"_parent\"><img src=\"https://colab.research.google.com/assets/colab-badge.svg\" alt=\"Open In Colab\"/></a>"
      ]
    },
    {
      "cell_type": "markdown",
      "id": "0b55c9a8",
      "metadata": {
        "id": "0b55c9a8"
      },
      "source": [
        "## Fermi Pico Bagel\n",
        "Try playing game and understand the rules : https://communicrossings.com/html/js/pfb.htm\n",
        "\n",
        "## Step 1\n",
        "Store any number in string format(number to be guessed by player) in a variable `original_number`.\n",
        "\n",
        "For Example: original_number = '123'\n"
      ]
    },
    {
      "cell_type": "code",
      "execution_count": null,
      "id": "57a0a2d0",
      "metadata": {
        "id": "57a0a2d0"
      },
      "outputs": [],
      "source": [
        "original_number='478'"
      ]
    },
    {
      "cell_type": "markdown",
      "id": "fd43340c",
      "metadata": {
        "id": "fd43340c"
      },
      "source": [
        "## Step 2\n",
        "Take a number as user input and save it in a variable `guess_number`.(Make sure that the datatype of guess_number is same as of original number i.e- `str`)"
      ]
    },
    {
      "cell_type": "code",
      "execution_count": null,
      "id": "2e0075a7",
      "metadata": {
        "colab": {
          "base_uri": "https://localhost:8080/"
        },
        "id": "2e0075a7",
        "outputId": "c958af7f-b6ed-4bdb-b543-3707305cbf74"
      },
      "outputs": [
        {
          "name": "stdout",
          "output_type": "stream",
          "text": [
            "407\n"
          ]
        }
      ],
      "source": [
        "guess_number=(input())"
      ]
    },
    {
      "cell_type": "markdown",
      "id": "22318243",
      "metadata": {
        "id": "22318243"
      },
      "source": [
        "\n",
        "\n",
        "## Step 3\n",
        "Check if total number of digits in `original_number` and `guess_number` is not same(Use `len()` function) then ask user for valid input.(First use `len()` to get total digits in `original_number` and `guess_number`.)"
      ]
    },
    {
      "cell_type": "code",
      "execution_count": null,
      "id": "258e2971",
      "metadata": {
        "id": "258e2971"
      },
      "outputs": [],
      "source": [
        "if len(original_number)!=len(guess_number):\n",
        "  print('invalid input')\n",
        "  guess_number=(input())\n"
      ]
    },
    {
      "cell_type": "markdown",
      "id": "0c064bda",
      "metadata": {
        "id": "0c064bda"
      },
      "source": [
        "## Step 4\n",
        "Using `set()`, check if the digits are repeated in a `guess_number` .\n",
        "Note that datatype `set` allows unique values only.\n",
        "\n",
        "For ex. if `user_input`is 122, then it should print the string 'Duplicate number'  as digit 2 is repeated."
      ]
    },
    {
      "cell_type": "code",
      "execution_count": null,
      "id": "7b5ef10d",
      "metadata": {
        "id": "7b5ef10d"
      },
      "outputs": [],
      "source": [
        "set1=set(guess_number)\n",
        "if len(set1)!=len(guess_number):\n",
        "  print('Duplicate number')\n",
        "  guess_number=input()\n",
        "\n"
      ]
    },
    {
      "cell_type": "markdown",
      "id": "0514b8d9",
      "metadata": {
        "id": "0514b8d9"
      },
      "source": [
        "## Step 5\n",
        "Check winning condition i.e. if both `guess_number` and `original_number` are same, then print 'Fermi' as many number of times as number of digits in a number and print ' You win !! '.\n"
      ]
    },
    {
      "cell_type": "code",
      "execution_count": null,
      "id": "ab9379a5",
      "metadata": {
        "id": "ab9379a5"
      },
      "outputs": [],
      "source": [
        " if guess_number==original_number :\n",
        "   a='Fermi '*len(original_number)\n",
        "  print(a,'You win')"
      ]
    },
    {
      "cell_type": "markdown",
      "id": "96eca378",
      "metadata": {
        "id": "96eca378"
      },
      "source": [
        "## Step 6\n",
        "Create empty list called `output` where we will store the output in the form of list.\n",
        "\n",
        "For example: output = [ ' Fermi ', ' Pico ' ,' Pico ' ] ."
      ]
    },
    {
      "cell_type": "code",
      "execution_count": null,
      "id": "c047a839",
      "metadata": {
        "id": "c047a839"
      },
      "outputs": [],
      "source": [
        "output=[]\n",
        "output.append(a)\n",
        "print(output)\n",
        "\n"
      ]
    },
    {
      "cell_type": "markdown",
      "id": "4949309d",
      "metadata": {
        "id": "4949309d"
      },
      "source": [
        "## Step 7\n",
        "Check if any digit and it's position in both `guess_number` and `original_number` are same then append 'Fermi' to `output` list or if only digit matches and not the position then append 'Pico' to `output`.\n"
      ]
    },
    {
      "cell_type": "code",
      "execution_count": null,
      "id": "7dbe3800",
      "metadata": {
        "colab": {
          "base_uri": "https://localhost:8080/"
        },
        "id": "7dbe3800",
        "outputId": "0d0cf70a-282e-429c-ac28-dccd2d2ea35d"
      },
      "outputs": [
        {
          "output_type": "stream",
          "name": "stdout",
          "text": [
            "{0: '4', 1: '0', 2: '7'}\n",
            "{0: '4', 1: '7', 2: '8'}\n",
            "['Fermi', 'Begal', 'Pico']\n"
          ]
        }
      ],
      "source": [
        "e={i:j for i,j in enumerate(guess_number)}\n",
        "print(e)\n",
        "e1={l:m for l,m in enumerate(original_number)}\n",
        "print(e1)\n",
        "output=[]\n",
        "for digit in e:\n",
        "  if e[digit]==e1[digit]:\n",
        "    output.append('Fermi')\n",
        "  elif e[digit] in e1.values():\n",
        "    output.append('Pico')\n",
        "  else:\n",
        "    output.append('Begal')\n",
        "\n",
        "print(output)"
      ]
    },
    {
      "cell_type": "markdown",
      "id": "59e62457",
      "metadata": {
        "id": "59e62457"
      },
      "source": [
        "## Step 8\n",
        "Define a variable called `output_string` which has all values from a list `output` with each value separated by space. (Use 'for' loop to get all the values from a list `output`.)"
      ]
    },
    {
      "cell_type": "code",
      "execution_count": null,
      "id": "d15c8f60",
      "metadata": {
        "colab": {
          "base_uri": "https://localhost:8080/"
        },
        "id": "d15c8f60",
        "outputId": "d74b7942-2bd8-4044-8da0-07f6909f424e"
      },
      "outputs": [
        {
          "output_type": "stream",
          "name": "stdout",
          "text": [
            "Fermi,Begal,Pico,\n"
          ]
        }
      ],
      "source": [
        "output_string=''\n",
        "for val in output:\n",
        "  output_string+=val+','\n",
        "print(output_string)"
      ]
    },
    {
      "cell_type": "markdown",
      "id": "f3f50bef",
      "metadata": {
        "id": "f3f50bef"
      },
      "source": [
        "## Step 9\n",
        "Check if neither any digit nor any position matches i.e. if length of `output` list is zero then print `Bagel`.\n",
        "\n",
        "Otherwise print `output_string`."
      ]
    },
    {
      "cell_type": "code",
      "execution_count": null,
      "id": "3c568356",
      "metadata": {
        "id": "3c568356"
      },
      "outputs": [],
      "source": [
        "if len(output)==0 :\n",
        "  output_string='Bagel'\n",
        "  print(output_string)"
      ]
    },
    {
      "cell_type": "markdown",
      "id": "9d4a684d",
      "metadata": {
        "id": "9d4a684d"
      },
      "source": [
        "## Step 10\n",
        "\n",
        "## Complete game\n",
        "Here use continue and break statements at appropriate places."
      ]
    },
    {
      "cell_type": "code",
      "execution_count": null,
      "id": "79843cdf",
      "metadata": {
        "colab": {
          "base_uri": "https://localhost:8080/"
        },
        "id": "79843cdf",
        "outputId": "1f539d63-d178-465f-e29f-c2cb7a939dc0"
      },
      "outputs": [
        {
          "output_type": "stream",
          "name": "stdout",
          "text": [
            "000\n",
            "Duplicate number\n",
            "012\n",
            "Bagel\n",
            "237\n",
            "Pico,\n",
            "273\n",
            "Fermi,\n",
            "679\n",
            "Fermi,\n",
            "873\n",
            "Pico,Fermi,\n",
            "378\n",
            "Fermi,Fermi,\n",
            "478\n",
            "Fermi Fermi Fermi  You win\n"
          ]
        }
      ],
      "source": [
        "original_number='478'\n",
        "while True:\n",
        "  guess_number=(input())\n",
        "  output=[]\n",
        "  # output.append(a)\n",
        "  # print(output)\n",
        "  if len(original_number)!=len(guess_number): #step 4\n",
        "    print ('invalid input')\n",
        "    # guess_number=(input())\n",
        "    continue\n",
        "  set1=set(guess_number)\n",
        "  if len(set1)!=len(guess_number):                      ## step 3 and step 4 (use continue statement)\n",
        "    print ('Duplicate number')\n",
        "    #guess_number=input()\n",
        "    continue\n",
        "  if guess_number==original_number :                      ## step 5 (use break statement for winning condition)\n",
        "    a='Fermi '*len(original_number)\n",
        "    print (a,'You win')\n",
        "    break\n",
        "  e={i:j for i,j in enumerate(guess_number)}              ## step 7\n",
        "  # print(e)\n",
        "  e1={l:m for l,m in enumerate(original_number)}\n",
        "  # print(e1)\n",
        "  # output=[]\n",
        "  for digit in e:\n",
        "    if e[digit]==e1[digit]:\n",
        "      output.append('Fermi')\n",
        "    elif e[digit] in e1.values():\n",
        "      output.append('Pico')\n",
        "\n",
        "  # print (output)                                            ## step 8\n",
        "  output_string=''\n",
        "  for val in output:\n",
        "    output_string+=val+','\n",
        "    # print (output_string)\n",
        "\n",
        "  if len(output)==0 :\n",
        "    output_string='Bagel'\n",
        "  print (output_string)\n",
        "\n",
        "\n",
        "\n",
        "## step 9"
      ]
    }
  ],
  "metadata": {
    "kernelspec": {
      "display_name": "Python 3",
      "language": "python",
      "name": "python3"
    },
    "language_info": {
      "codemirror_mode": {
        "name": "ipython",
        "version": 3
      },
      "file_extension": ".py",
      "mimetype": "text/x-python",
      "name": "python",
      "nbconvert_exporter": "python",
      "pygments_lexer": "ipython3",
      "version": "3.8.8"
    },
    "colab": {
      "provenance": [],
      "include_colab_link": true
    }
  },
  "nbformat": 4,
  "nbformat_minor": 5
}