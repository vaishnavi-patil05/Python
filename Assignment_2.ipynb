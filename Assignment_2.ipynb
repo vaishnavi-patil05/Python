{
  "cells": [
    {
      "cell_type": "markdown",
      "metadata": {
        "id": "view-in-github",
        "colab_type": "text"
      },
      "source": [
        "<a href=\"https://colab.research.google.com/github/vaishnavi-patil05/Python/blob/main/Assignment_2.ipynb\" target=\"_parent\"><img src=\"https://colab.research.google.com/assets/colab-badge.svg\" alt=\"Open In Colab\"/></a>"
      ]
    },
    {
      "cell_type": "markdown",
      "metadata": {
        "id": "1iTJoURvHrgt"
      },
      "source": [
        "# Assignment - More Pandas\n",
        "This assignment requires more individual learning then the last one did - you are encouraged to check out the [pandas documentation](http://pandas.pydata.org/pandas-docs/stable/) to find functions or methods you might not have used yet, or ask questions on [Stack Overflow](http://stackoverflow.com/) and tag them as pandas and python related."
      ]
    },
    {
      "cell_type": "markdown",
      "metadata": {
        "id": "URfwOuXvHrg3"
      },
      "source": [
        "### Question 1\n",
        "Load the energy data from the file `Energy Indicators.xls`, which is a list of indicators of [energy supply and renewable electricity production](Energy%20Indicators.xls) from the [United Nations](http://unstats.un.org/unsd/environment/excel_file_tables/2013/Energy%20Indicators.xls) for the year 2013, and should be put into a DataFrame with the variable name of **energy**.\n",
        "\n",
        "Keep in mind that this is an Excel file, and not a comma separated values file. Also, make sure to exclude the footer and header information from the datafile. The first two columns are unneccessary, so you should get rid of them, and you should change the column labels so that the columns are:\n",
        "\n",
        "`['Country', 'Energy Supply', 'Energy Supply per Capita', '% Renewable']`\n",
        "\n",
        "Convert `Energy Supply` to gigajoules (there are 1,000,000 gigajoules in a petajoule). For all countries which have missing data (e.g. data with \"...\") make sure this is reflected as `np.NaN` values.\n",
        "\n",
        "Rename the following list of countries (for use in later questions):\n",
        "\n",
        "```\"Republic of Korea\": \"South Korea\",\n",
        "\"United States of America\": \"United States\",\n",
        "\"United Kingdom of Great Britain and Northern Ireland\": \"United Kingdom\",\n",
        "\"China, Hong Kong Special Administrative Region\": \"Hong Kong\"```\n",
        "\n",
        "There are also several countries with numbers and/or parenthesis in their name. Be sure to remove these, \n",
        "\n",
        "e.g. \n",
        "\n",
        "`'Bolivia (Plurinational State of)'` should be `'Bolivia'`, \n",
        "\n",
        "`'Switzerland17'` should be `'Switzerland'`.\n",
        "\n",
        "<br>\n",
        "\n",
        "Next, load the GDP data from the file `world_bank.csv`, which is a csv containing countries' GDP from 1960 to 2015 from [World Bank](http://data.worldbank.org/indicator/NY.GDP.MKTP.CD). Call this DataFrame **GDP**. \n",
        "\n",
        "Make sure to skip the header, and rename the following list of countries:\n",
        "\n",
        "```\"Korea, Rep.\": \"South Korea\", \n",
        "\"Iran, Islamic Rep.\": \"Iran\",\n",
        "\"Hong Kong SAR, China\": \"Hong Kong\"```\n",
        "\n",
        "<br>\n",
        "\n",
        "Finally, load the [Sciamgo Journal and Country Rank data for Energy Engineering and Power Technology](http://www.scimagojr.com/countryrank.php?category=2102) from the file `scimagojr-3.xlsx`, which ranks countries based on their journal contributions in the aforementioned area. Call this DataFrame **ScimEn**.\n",
        "\n",
        "Join the three datasets: GDP, Energy, and ScimEn into a new dataset (using the intersection of country names). Use only the last 10 years (2006-2015) of GDP data and only the top 15 countries by Scimagojr 'Rank' (Rank 1 through 15). \n",
        "\n",
        "The index of this DataFrame should be the name of the country, and the columns should be ['Rank', 'Documents', 'Citable documents', 'Citations', 'Self-citations',\n",
        "       'Citations per document', 'H index', 'Energy Supply',\n",
        "       'Energy Supply per Capita', '% Renewable', '2006', '2007', '2008',\n",
        "       '2009', '2010', '2011', '2012', '2013', '2014', '2015'].\n",
        "\n",
        "*This function should return a DataFrame with 20 columns and 15 entries.*"
      ]
    },
    {
      "cell_type": "code",
      "source": [
        "import pandas as pd\n",
        "import numpy as np\n",
        "# energy=pd.read_excel('/content/Energy Indicators.xls')\n",
        "# energy"
      ],
      "metadata": {
        "id": "X6duVe2mWhcG"
      },
      "execution_count": null,
      "outputs": []
    },
    {
      "cell_type": "code",
      "source": [
        "!pip install xlrd"
      ],
      "metadata": {
        "colab": {
          "base_uri": "https://localhost:8080/"
        },
        "id": "TEU1zxENskVD",
        "outputId": "f59b7e98-2edc-41a7-d389-d1184f03f211"
      },
      "execution_count": null,
      "outputs": [
        {
          "output_type": "stream",
          "name": "stdout",
          "text": [
            "Looking in indexes: https://pypi.org/simple, https://us-python.pkg.dev/colab-wheels/public/simple/\n",
            "Requirement already satisfied: xlrd in /usr/local/lib/python3.7/dist-packages (1.1.0)\n"
          ]
        }
      ]
    },
    {
      "cell_type": "code",
      "source": [
        "!pip install --upgrade xls"
      ],
      "metadata": {
        "colab": {
          "base_uri": "https://localhost:8080/"
        },
        "id": "d4y0fFu9tEXW",
        "outputId": "b14d859d-ed83-4d1c-fe53-731b67ab9860"
      },
      "execution_count": null,
      "outputs": [
        {
          "output_type": "stream",
          "name": "stdout",
          "text": [
            "Looking in indexes: https://pypi.org/simple, https://us-python.pkg.dev/colab-wheels/public/simple/\n",
            "Collecting xls\n",
            "  Downloading xls-0.1.1.tar.gz (58 kB)\n",
            "\u001b[K     |████████████████████████████████| 58 kB 3.3 MB/s \n",
            "\u001b[?25hCollecting PyV8\n",
            "  Downloading PyV8-0.5.zip (22 kB)\n",
            "Building wheels for collected packages: xls, PyV8\n",
            "  Building wheel for xls (setup.py) ... \u001b[?25l\u001b[?25hdone\n",
            "  Created wheel for xls: filename=xls-0.1.1-py3-none-any.whl size=59442 sha256=70505a257311ffee23b3b75b5aa8180643b99ff17a77b07d8839d234645285b4\n",
            "  Stored in directory: /root/.cache/pip/wheels/71/66/84/2960f53eee5ac635330aed05537c31c4a7eb21c49571b8ba90\n",
            "  Building wheel for PyV8 (setup.py) ... \u001b[?25lerror\n",
            "\u001b[31m  ERROR: Failed building wheel for PyV8\u001b[0m\n",
            "\u001b[?25h  Running setup.py clean for PyV8\n",
            "Successfully built xls\n",
            "Failed to build PyV8\n",
            "Installing collected packages: PyV8, xls\n",
            "    Running setup.py install for PyV8 ... \u001b[?25l\u001b[?25herror\n",
            "\u001b[31mERROR: Command errored out with exit status 1: /usr/bin/python3 -u -c 'import io, os, sys, setuptools, tokenize; sys.argv[0] = '\"'\"'/tmp/pip-install-3zzjqgg2/pyv8_fccc535edb5c4e33a1681afdd9435a11/setup.py'\"'\"'; __file__='\"'\"'/tmp/pip-install-3zzjqgg2/pyv8_fccc535edb5c4e33a1681afdd9435a11/setup.py'\"'\"';f = getattr(tokenize, '\"'\"'open'\"'\"', open)(__file__) if os.path.exists(__file__) else io.StringIO('\"'\"'from setuptools import setup; setup()'\"'\"');code = f.read().replace('\"'\"'\\r\\n'\"'\"', '\"'\"'\\n'\"'\"');f.close();exec(compile(code, __file__, '\"'\"'exec'\"'\"'))' install --record /tmp/pip-record-0ha3n1q3/install-record.txt --single-version-externally-managed --compile --install-headers /usr/local/include/python3.7/PyV8 Check the logs for full command output.\u001b[0m\n"
          ]
        }
      ]
    },
    {
      "cell_type": "code",
      "source": [
        "!pip install openpyxl \n"
      ],
      "metadata": {
        "id": "vgs7w5K6oUsH",
        "colab": {
          "base_uri": "https://localhost:8080/"
        },
        "outputId": "96af5098-9ad5-4d3c-a11c-706c385abe9f"
      },
      "execution_count": null,
      "outputs": [
        {
          "output_type": "stream",
          "name": "stdout",
          "text": [
            "Looking in indexes: https://pypi.org/simple, https://us-python.pkg.dev/colab-wheels/public/simple/\n",
            "Requirement already satisfied: openpyxl in /usr/local/lib/python3.7/dist-packages (3.0.10)\n",
            "Requirement already satisfied: et-xmlfile in /usr/local/lib/python3.7/dist-packages (from openpyxl) (1.1.0)\n"
          ]
        }
      ]
    },
    {
      "cell_type": "code",
      "source": [
        "pip install --upgrade pandas"
      ],
      "metadata": {
        "id": "ATTcFqSLSwMO",
        "colab": {
          "base_uri": "https://localhost:8080/"
        },
        "outputId": "e462efbd-d543-47bc-c54d-1f49d7daa0b8"
      },
      "execution_count": null,
      "outputs": [
        {
          "output_type": "stream",
          "name": "stdout",
          "text": [
            "Looking in indexes: https://pypi.org/simple, https://us-python.pkg.dev/colab-wheels/public/simple/\n",
            "Requirement already satisfied: pandas in /usr/local/lib/python3.7/dist-packages (1.3.5)\n",
            "Requirement already satisfied: numpy>=1.17.3 in /usr/local/lib/python3.7/dist-packages (from pandas) (1.21.6)\n",
            "Requirement already satisfied: pytz>=2017.3 in /usr/local/lib/python3.7/dist-packages (from pandas) (2022.1)\n",
            "Requirement already satisfied: python-dateutil>=2.7.3 in /usr/local/lib/python3.7/dist-packages (from pandas) (2.8.2)\n",
            "Requirement already satisfied: six>=1.5 in /usr/local/lib/python3.7/dist-packages (from python-dateutil>=2.7.3->pandas) (1.15.0)\n"
          ]
        }
      ]
    },
    {
      "cell_type": "code",
      "source": [
        "import pandas as pd\n",
        "import re\n",
        "import numpy as np\n",
        "# import openpyxl\n",
        "# energy=openpyxl.load_workbook('Energy Indicators (1).xlsx')\n",
        "energy=pd.read_excel('Energy Indicators (1).xlsx')#[3:]\n",
        "del energy['Unnamed: 0']\n",
        "del energy['Unnamed: 1']\n",
        "energy.rename(columns={'Unnamed: 2':'Country',\t'Unnamed: 3':'Energy Supply',\t'Unnamed: 4':'Energy Supply per Capita',\t'Unnamed: 5':'% Renewable'},inplace=True)\n",
        "energy.loc[(energy['Energy Supply']=='...'),'Energy Supply'].replace('...',np.nan)\n",
        "energy.loc[energy['Energy Supply'].notnull()]*1000000 \n",
        "energy['Country'].replace({\"Republic of Korea\": \"South Korea\", \"United States of America20\": \"United States\", \"United Kingdom of Great Britain and Northern Ireland19\": \"United Kingdom\", \"China, Hong Kong Special Administrative Region3\": \"Hong Kong\"},inplace=True)\n",
        "energy.Country = energy.Country.str.replace(r\" \\(.*\\)\",\"\")\n",
        "energy.Country = energy.Country.str.replace(r\"[0-9]\",\"\")\n",
        "energy.head()"
      ],
      "metadata": {
        "id": "0slLGxKLI-t4",
        "colab": {
          "base_uri": "https://localhost:8080/",
          "height": 279
        },
        "outputId": "6ab17f7e-e562-419b-eb55-71fd1f4a8674"
      },
      "execution_count": null,
      "outputs": [
        {
          "output_type": "stream",
          "name": "stderr",
          "text": [
            "/usr/local/lib/python3.7/dist-packages/ipykernel_launcher.py:13: FutureWarning: The default value of regex will change from True to False in a future version.\n",
            "  del sys.path[0]\n",
            "/usr/local/lib/python3.7/dist-packages/ipykernel_launcher.py:14: FutureWarning: The default value of regex will change from True to False in a future version.\n",
            "  \n"
          ]
        },
        {
          "output_type": "execute_result",
          "data": {
            "text/plain": [
              "                                             Country Energy Supply  \\\n",
              "0                   Environmental Indicators: Energy           NaN   \n",
              "1                                                NaN           NaN   \n",
              "2  Energy Supply and Renewable Electricity Produc...           NaN   \n",
              "3                                                NaN           NaN   \n",
              "4                                                NaN           NaN   \n",
              "\n",
              "  Energy Supply per Capita                 % Renewable  \n",
              "0                      NaN                         NaN  \n",
              "1                      NaN                         NaN  \n",
              "2                      NaN                         NaN  \n",
              "3                      NaN                         NaN  \n",
              "4                      NaN  Last update: December 2015  "
            ],
            "text/html": [
              "\n",
              "  <div id=\"df-b6838756-c1c7-40b4-bee9-11d1d4353297\">\n",
              "    <div class=\"colab-df-container\">\n",
              "      <div>\n",
              "<style scoped>\n",
              "    .dataframe tbody tr th:only-of-type {\n",
              "        vertical-align: middle;\n",
              "    }\n",
              "\n",
              "    .dataframe tbody tr th {\n",
              "        vertical-align: top;\n",
              "    }\n",
              "\n",
              "    .dataframe thead th {\n",
              "        text-align: right;\n",
              "    }\n",
              "</style>\n",
              "<table border=\"1\" class=\"dataframe\">\n",
              "  <thead>\n",
              "    <tr style=\"text-align: right;\">\n",
              "      <th></th>\n",
              "      <th>Country</th>\n",
              "      <th>Energy Supply</th>\n",
              "      <th>Energy Supply per Capita</th>\n",
              "      <th>% Renewable</th>\n",
              "    </tr>\n",
              "  </thead>\n",
              "  <tbody>\n",
              "    <tr>\n",
              "      <th>0</th>\n",
              "      <td>Environmental Indicators: Energy</td>\n",
              "      <td>NaN</td>\n",
              "      <td>NaN</td>\n",
              "      <td>NaN</td>\n",
              "    </tr>\n",
              "    <tr>\n",
              "      <th>1</th>\n",
              "      <td>NaN</td>\n",
              "      <td>NaN</td>\n",
              "      <td>NaN</td>\n",
              "      <td>NaN</td>\n",
              "    </tr>\n",
              "    <tr>\n",
              "      <th>2</th>\n",
              "      <td>Energy Supply and Renewable Electricity Produc...</td>\n",
              "      <td>NaN</td>\n",
              "      <td>NaN</td>\n",
              "      <td>NaN</td>\n",
              "    </tr>\n",
              "    <tr>\n",
              "      <th>3</th>\n",
              "      <td>NaN</td>\n",
              "      <td>NaN</td>\n",
              "      <td>NaN</td>\n",
              "      <td>NaN</td>\n",
              "    </tr>\n",
              "    <tr>\n",
              "      <th>4</th>\n",
              "      <td>NaN</td>\n",
              "      <td>NaN</td>\n",
              "      <td>NaN</td>\n",
              "      <td>Last update: December 2015</td>\n",
              "    </tr>\n",
              "  </tbody>\n",
              "</table>\n",
              "</div>\n",
              "      <button class=\"colab-df-convert\" onclick=\"convertToInteractive('df-b6838756-c1c7-40b4-bee9-11d1d4353297')\"\n",
              "              title=\"Convert this dataframe to an interactive table.\"\n",
              "              style=\"display:none;\">\n",
              "        \n",
              "  <svg xmlns=\"http://www.w3.org/2000/svg\" height=\"24px\"viewBox=\"0 0 24 24\"\n",
              "       width=\"24px\">\n",
              "    <path d=\"M0 0h24v24H0V0z\" fill=\"none\"/>\n",
              "    <path d=\"M18.56 5.44l.94 2.06.94-2.06 2.06-.94-2.06-.94-.94-2.06-.94 2.06-2.06.94zm-11 1L8.5 8.5l.94-2.06 2.06-.94-2.06-.94L8.5 2.5l-.94 2.06-2.06.94zm10 10l.94 2.06.94-2.06 2.06-.94-2.06-.94-.94-2.06-.94 2.06-2.06.94z\"/><path d=\"M17.41 7.96l-1.37-1.37c-.4-.4-.92-.59-1.43-.59-.52 0-1.04.2-1.43.59L10.3 9.45l-7.72 7.72c-.78.78-.78 2.05 0 2.83L4 21.41c.39.39.9.59 1.41.59.51 0 1.02-.2 1.41-.59l7.78-7.78 2.81-2.81c.8-.78.8-2.07 0-2.86zM5.41 20L4 18.59l7.72-7.72 1.47 1.35L5.41 20z\"/>\n",
              "  </svg>\n",
              "      </button>\n",
              "      \n",
              "  <style>\n",
              "    .colab-df-container {\n",
              "      display:flex;\n",
              "      flex-wrap:wrap;\n",
              "      gap: 12px;\n",
              "    }\n",
              "\n",
              "    .colab-df-convert {\n",
              "      background-color: #E8F0FE;\n",
              "      border: none;\n",
              "      border-radius: 50%;\n",
              "      cursor: pointer;\n",
              "      display: none;\n",
              "      fill: #1967D2;\n",
              "      height: 32px;\n",
              "      padding: 0 0 0 0;\n",
              "      width: 32px;\n",
              "    }\n",
              "\n",
              "    .colab-df-convert:hover {\n",
              "      background-color: #E2EBFA;\n",
              "      box-shadow: 0px 1px 2px rgba(60, 64, 67, 0.3), 0px 1px 3px 1px rgba(60, 64, 67, 0.15);\n",
              "      fill: #174EA6;\n",
              "    }\n",
              "\n",
              "    [theme=dark] .colab-df-convert {\n",
              "      background-color: #3B4455;\n",
              "      fill: #D2E3FC;\n",
              "    }\n",
              "\n",
              "    [theme=dark] .colab-df-convert:hover {\n",
              "      background-color: #434B5C;\n",
              "      box-shadow: 0px 1px 3px 1px rgba(0, 0, 0, 0.15);\n",
              "      filter: drop-shadow(0px 1px 2px rgba(0, 0, 0, 0.3));\n",
              "      fill: #FFFFFF;\n",
              "    }\n",
              "  </style>\n",
              "\n",
              "      <script>\n",
              "        const buttonEl =\n",
              "          document.querySelector('#df-b6838756-c1c7-40b4-bee9-11d1d4353297 button.colab-df-convert');\n",
              "        buttonEl.style.display =\n",
              "          google.colab.kernel.accessAllowed ? 'block' : 'none';\n",
              "\n",
              "        async function convertToInteractive(key) {\n",
              "          const element = document.querySelector('#df-b6838756-c1c7-40b4-bee9-11d1d4353297');\n",
              "          const dataTable =\n",
              "            await google.colab.kernel.invokeFunction('convertToInteractive',\n",
              "                                                     [key], {});\n",
              "          if (!dataTable) return;\n",
              "\n",
              "          const docLinkHtml = 'Like what you see? Visit the ' +\n",
              "            '<a target=\"_blank\" href=https://colab.research.google.com/notebooks/data_table.ipynb>data table notebook</a>'\n",
              "            + ' to learn more about interactive tables.';\n",
              "          element.innerHTML = '';\n",
              "          dataTable['output_type'] = 'display_data';\n",
              "          await google.colab.output.renderOutput(dataTable, element);\n",
              "          const docLink = document.createElement('div');\n",
              "          docLink.innerHTML = docLinkHtml;\n",
              "          element.appendChild(docLink);\n",
              "        }\n",
              "      </script>\n",
              "    </div>\n",
              "  </div>\n",
              "  "
            ]
          },
          "metadata": {},
          "execution_count": 10
        }
      ]
    },
    {
      "cell_type": "code",
      "source": [
        "# import numpy as np\n",
        "# energy['Energy Supply'].nunique()"
      ],
      "metadata": {
        "id": "qiCtA8HUZdWS"
      },
      "execution_count": null,
      "outputs": []
    },
    {
      "cell_type": "code",
      "source": [
        "# energy.loc[energy['Energy Supply'].notnull()]*1000000"
      ],
      "metadata": {
        "id": "6vHMw8ABphtt"
      },
      "execution_count": null,
      "outputs": []
    },
    {
      "cell_type": "code",
      "source": [
        "ls"
      ],
      "metadata": {
        "id": "EwvdD1BglyVi",
        "colab": {
          "base_uri": "https://localhost:8080/"
        },
        "outputId": "251a7e9b-f191-4742-a3dc-b44a2cb704b4"
      },
      "execution_count": null,
      "outputs": [
        {
          "output_type": "stream",
          "name": "stdout",
          "text": [
            "'Energy Indicators (1).xlsx'   \u001b[0m\u001b[01;34msample_data\u001b[0m/   scimagojr-3.xlsx   world_bank.csv\n"
          ]
        }
      ]
    },
    {
      "cell_type": "code",
      "source": [],
      "metadata": {
        "id": "edmDs-_OWNJu"
      },
      "execution_count": null,
      "outputs": []
    },
    {
      "cell_type": "code",
      "source": [
        "GDP=pd.read_csv('/content/world_bank.csv')[3:]\n",
        "GDP['Data Source'].replace({\"Korea, Rep.\": \"South Korea\", \"Iran, Islamic Rep.\": \"Iran\", \"Hong Kong SAR, China\": \"Hong Kong\"},inplace=True)\n",
        "GDP.rename(columns=GDP.iloc[0],inplace=True)\n",
        "GDP.drop(3,axis=0,inplace= True)\n",
        "for col in GDP.select_dtypes(exclude='object').columns:\n",
        "  GDP.rename(columns={col:int(col)},inplace=True)\n",
        "GDP.reset_index(inplace = True)\n",
        "GDP.rename(columns={'Country Name':'Country'},inplace=True)\n",
        "GDP.head()"
      ],
      "metadata": {
        "id": "ZljQIDY017cC",
        "colab": {
          "base_uri": "https://localhost:8080/",
          "height": 664
        },
        "outputId": "231e0099-46cf-4176-d222-f2f2c3ef5308"
      },
      "execution_count": null,
      "outputs": [
        {
          "output_type": "execute_result",
          "data": {
            "text/plain": [
              "   index      Country Country Code                            Indicator Name  \\\n",
              "0      4        Aruba          ABW  GDP at market prices (constant 2010 US$)   \n",
              "1      5      Andorra          AND  GDP at market prices (constant 2010 US$)   \n",
              "2      6  Afghanistan          AFG  GDP at market prices (constant 2010 US$)   \n",
              "3      7       Angola          AGO  GDP at market prices (constant 2010 US$)   \n",
              "4      8      Albania          ALB  GDP at market prices (constant 2010 US$)   \n",
              "\n",
              "   Indicator Code  1960  1961  1962  1963  1964  ...          2006  \\\n",
              "0  NY.GDP.MKTP.KD   NaN   NaN   NaN   NaN   NaN  ...           NaN   \n",
              "1  NY.GDP.MKTP.KD   NaN   NaN   NaN   NaN   NaN  ...  4.018196e+09   \n",
              "2  NY.GDP.MKTP.KD   NaN   NaN   NaN   NaN   NaN  ...  1.030523e+10   \n",
              "3  NY.GDP.MKTP.KD   NaN   NaN   NaN   NaN   NaN  ...  5.581103e+10   \n",
              "4  NY.GDP.MKTP.KD   NaN   NaN   NaN   NaN   NaN  ...  9.771760e+09   \n",
              "\n",
              "           2007          2008          2009          2010          2011  \\\n",
              "0           NaN           NaN           NaN  2.467704e+09           NaN   \n",
              "1  4.021331e+09  3.675728e+09  3.535389e+09  3.346317e+09  3.185605e+09   \n",
              "2  1.172119e+10  1.214448e+10  1.469733e+10  1.593680e+10  1.691113e+10   \n",
              "3  6.842044e+10  7.787420e+10  7.975320e+10  8.247091e+10  8.570262e+10   \n",
              "4  1.034829e+10  1.112752e+10  1.150029e+10  1.192695e+10  1.223109e+10   \n",
              "\n",
              "           2012          2013          2014          2015  \n",
              "0           NaN           NaN           NaN           NaN  \n",
              "1  3.129538e+09  3.127550e+09           NaN           NaN  \n",
              "2  1.935220e+10  1.973134e+10  1.999032e+10  2.029415e+10  \n",
              "3  9.012096e+10  9.626143e+10  1.008860e+11  1.039110e+11  \n",
              "4  1.240477e+10  1.254247e+10  1.279331e+10  1.312082e+10  \n",
              "\n",
              "[5 rows x 61 columns]"
            ],
            "text/html": [
              "\n",
              "  <div id=\"df-fbef2320-cfbb-4105-b20f-15622662ca24\">\n",
              "    <div class=\"colab-df-container\">\n",
              "      <div>\n",
              "<style scoped>\n",
              "    .dataframe tbody tr th:only-of-type {\n",
              "        vertical-align: middle;\n",
              "    }\n",
              "\n",
              "    .dataframe tbody tr th {\n",
              "        vertical-align: top;\n",
              "    }\n",
              "\n",
              "    .dataframe thead th {\n",
              "        text-align: right;\n",
              "    }\n",
              "</style>\n",
              "<table border=\"1\" class=\"dataframe\">\n",
              "  <thead>\n",
              "    <tr style=\"text-align: right;\">\n",
              "      <th></th>\n",
              "      <th>index</th>\n",
              "      <th>Country</th>\n",
              "      <th>Country Code</th>\n",
              "      <th>Indicator Name</th>\n",
              "      <th>Indicator Code</th>\n",
              "      <th>1960</th>\n",
              "      <th>1961</th>\n",
              "      <th>1962</th>\n",
              "      <th>1963</th>\n",
              "      <th>1964</th>\n",
              "      <th>...</th>\n",
              "      <th>2006</th>\n",
              "      <th>2007</th>\n",
              "      <th>2008</th>\n",
              "      <th>2009</th>\n",
              "      <th>2010</th>\n",
              "      <th>2011</th>\n",
              "      <th>2012</th>\n",
              "      <th>2013</th>\n",
              "      <th>2014</th>\n",
              "      <th>2015</th>\n",
              "    </tr>\n",
              "  </thead>\n",
              "  <tbody>\n",
              "    <tr>\n",
              "      <th>0</th>\n",
              "      <td>4</td>\n",
              "      <td>Aruba</td>\n",
              "      <td>ABW</td>\n",
              "      <td>GDP at market prices (constant 2010 US$)</td>\n",
              "      <td>NY.GDP.MKTP.KD</td>\n",
              "      <td>NaN</td>\n",
              "      <td>NaN</td>\n",
              "      <td>NaN</td>\n",
              "      <td>NaN</td>\n",
              "      <td>NaN</td>\n",
              "      <td>...</td>\n",
              "      <td>NaN</td>\n",
              "      <td>NaN</td>\n",
              "      <td>NaN</td>\n",
              "      <td>NaN</td>\n",
              "      <td>2.467704e+09</td>\n",
              "      <td>NaN</td>\n",
              "      <td>NaN</td>\n",
              "      <td>NaN</td>\n",
              "      <td>NaN</td>\n",
              "      <td>NaN</td>\n",
              "    </tr>\n",
              "    <tr>\n",
              "      <th>1</th>\n",
              "      <td>5</td>\n",
              "      <td>Andorra</td>\n",
              "      <td>AND</td>\n",
              "      <td>GDP at market prices (constant 2010 US$)</td>\n",
              "      <td>NY.GDP.MKTP.KD</td>\n",
              "      <td>NaN</td>\n",
              "      <td>NaN</td>\n",
              "      <td>NaN</td>\n",
              "      <td>NaN</td>\n",
              "      <td>NaN</td>\n",
              "      <td>...</td>\n",
              "      <td>4.018196e+09</td>\n",
              "      <td>4.021331e+09</td>\n",
              "      <td>3.675728e+09</td>\n",
              "      <td>3.535389e+09</td>\n",
              "      <td>3.346317e+09</td>\n",
              "      <td>3.185605e+09</td>\n",
              "      <td>3.129538e+09</td>\n",
              "      <td>3.127550e+09</td>\n",
              "      <td>NaN</td>\n",
              "      <td>NaN</td>\n",
              "    </tr>\n",
              "    <tr>\n",
              "      <th>2</th>\n",
              "      <td>6</td>\n",
              "      <td>Afghanistan</td>\n",
              "      <td>AFG</td>\n",
              "      <td>GDP at market prices (constant 2010 US$)</td>\n",
              "      <td>NY.GDP.MKTP.KD</td>\n",
              "      <td>NaN</td>\n",
              "      <td>NaN</td>\n",
              "      <td>NaN</td>\n",
              "      <td>NaN</td>\n",
              "      <td>NaN</td>\n",
              "      <td>...</td>\n",
              "      <td>1.030523e+10</td>\n",
              "      <td>1.172119e+10</td>\n",
              "      <td>1.214448e+10</td>\n",
              "      <td>1.469733e+10</td>\n",
              "      <td>1.593680e+10</td>\n",
              "      <td>1.691113e+10</td>\n",
              "      <td>1.935220e+10</td>\n",
              "      <td>1.973134e+10</td>\n",
              "      <td>1.999032e+10</td>\n",
              "      <td>2.029415e+10</td>\n",
              "    </tr>\n",
              "    <tr>\n",
              "      <th>3</th>\n",
              "      <td>7</td>\n",
              "      <td>Angola</td>\n",
              "      <td>AGO</td>\n",
              "      <td>GDP at market prices (constant 2010 US$)</td>\n",
              "      <td>NY.GDP.MKTP.KD</td>\n",
              "      <td>NaN</td>\n",
              "      <td>NaN</td>\n",
              "      <td>NaN</td>\n",
              "      <td>NaN</td>\n",
              "      <td>NaN</td>\n",
              "      <td>...</td>\n",
              "      <td>5.581103e+10</td>\n",
              "      <td>6.842044e+10</td>\n",
              "      <td>7.787420e+10</td>\n",
              "      <td>7.975320e+10</td>\n",
              "      <td>8.247091e+10</td>\n",
              "      <td>8.570262e+10</td>\n",
              "      <td>9.012096e+10</td>\n",
              "      <td>9.626143e+10</td>\n",
              "      <td>1.008860e+11</td>\n",
              "      <td>1.039110e+11</td>\n",
              "    </tr>\n",
              "    <tr>\n",
              "      <th>4</th>\n",
              "      <td>8</td>\n",
              "      <td>Albania</td>\n",
              "      <td>ALB</td>\n",
              "      <td>GDP at market prices (constant 2010 US$)</td>\n",
              "      <td>NY.GDP.MKTP.KD</td>\n",
              "      <td>NaN</td>\n",
              "      <td>NaN</td>\n",
              "      <td>NaN</td>\n",
              "      <td>NaN</td>\n",
              "      <td>NaN</td>\n",
              "      <td>...</td>\n",
              "      <td>9.771760e+09</td>\n",
              "      <td>1.034829e+10</td>\n",
              "      <td>1.112752e+10</td>\n",
              "      <td>1.150029e+10</td>\n",
              "      <td>1.192695e+10</td>\n",
              "      <td>1.223109e+10</td>\n",
              "      <td>1.240477e+10</td>\n",
              "      <td>1.254247e+10</td>\n",
              "      <td>1.279331e+10</td>\n",
              "      <td>1.312082e+10</td>\n",
              "    </tr>\n",
              "  </tbody>\n",
              "</table>\n",
              "<p>5 rows × 61 columns</p>\n",
              "</div>\n",
              "      <button class=\"colab-df-convert\" onclick=\"convertToInteractive('df-fbef2320-cfbb-4105-b20f-15622662ca24')\"\n",
              "              title=\"Convert this dataframe to an interactive table.\"\n",
              "              style=\"display:none;\">\n",
              "        \n",
              "  <svg xmlns=\"http://www.w3.org/2000/svg\" height=\"24px\"viewBox=\"0 0 24 24\"\n",
              "       width=\"24px\">\n",
              "    <path d=\"M0 0h24v24H0V0z\" fill=\"none\"/>\n",
              "    <path d=\"M18.56 5.44l.94 2.06.94-2.06 2.06-.94-2.06-.94-.94-2.06-.94 2.06-2.06.94zm-11 1L8.5 8.5l.94-2.06 2.06-.94-2.06-.94L8.5 2.5l-.94 2.06-2.06.94zm10 10l.94 2.06.94-2.06 2.06-.94-2.06-.94-.94-2.06-.94 2.06-2.06.94z\"/><path d=\"M17.41 7.96l-1.37-1.37c-.4-.4-.92-.59-1.43-.59-.52 0-1.04.2-1.43.59L10.3 9.45l-7.72 7.72c-.78.78-.78 2.05 0 2.83L4 21.41c.39.39.9.59 1.41.59.51 0 1.02-.2 1.41-.59l7.78-7.78 2.81-2.81c.8-.78.8-2.07 0-2.86zM5.41 20L4 18.59l7.72-7.72 1.47 1.35L5.41 20z\"/>\n",
              "  </svg>\n",
              "      </button>\n",
              "      \n",
              "  <style>\n",
              "    .colab-df-container {\n",
              "      display:flex;\n",
              "      flex-wrap:wrap;\n",
              "      gap: 12px;\n",
              "    }\n",
              "\n",
              "    .colab-df-convert {\n",
              "      background-color: #E8F0FE;\n",
              "      border: none;\n",
              "      border-radius: 50%;\n",
              "      cursor: pointer;\n",
              "      display: none;\n",
              "      fill: #1967D2;\n",
              "      height: 32px;\n",
              "      padding: 0 0 0 0;\n",
              "      width: 32px;\n",
              "    }\n",
              "\n",
              "    .colab-df-convert:hover {\n",
              "      background-color: #E2EBFA;\n",
              "      box-shadow: 0px 1px 2px rgba(60, 64, 67, 0.3), 0px 1px 3px 1px rgba(60, 64, 67, 0.15);\n",
              "      fill: #174EA6;\n",
              "    }\n",
              "\n",
              "    [theme=dark] .colab-df-convert {\n",
              "      background-color: #3B4455;\n",
              "      fill: #D2E3FC;\n",
              "    }\n",
              "\n",
              "    [theme=dark] .colab-df-convert:hover {\n",
              "      background-color: #434B5C;\n",
              "      box-shadow: 0px 1px 3px 1px rgba(0, 0, 0, 0.15);\n",
              "      filter: drop-shadow(0px 1px 2px rgba(0, 0, 0, 0.3));\n",
              "      fill: #FFFFFF;\n",
              "    }\n",
              "  </style>\n",
              "\n",
              "      <script>\n",
              "        const buttonEl =\n",
              "          document.querySelector('#df-fbef2320-cfbb-4105-b20f-15622662ca24 button.colab-df-convert');\n",
              "        buttonEl.style.display =\n",
              "          google.colab.kernel.accessAllowed ? 'block' : 'none';\n",
              "\n",
              "        async function convertToInteractive(key) {\n",
              "          const element = document.querySelector('#df-fbef2320-cfbb-4105-b20f-15622662ca24');\n",
              "          const dataTable =\n",
              "            await google.colab.kernel.invokeFunction('convertToInteractive',\n",
              "                                                     [key], {});\n",
              "          if (!dataTable) return;\n",
              "\n",
              "          const docLinkHtml = 'Like what you see? Visit the ' +\n",
              "            '<a target=\"_blank\" href=https://colab.research.google.com/notebooks/data_table.ipynb>data table notebook</a>'\n",
              "            + ' to learn more about interactive tables.';\n",
              "          element.innerHTML = '';\n",
              "          dataTable['output_type'] = 'display_data';\n",
              "          await google.colab.output.renderOutput(dataTable, element);\n",
              "          const docLink = document.createElement('div');\n",
              "          docLink.innerHTML = docLinkHtml;\n",
              "          element.appendChild(docLink);\n",
              "        }\n",
              "      </script>\n",
              "    </div>\n",
              "  </div>\n",
              "  "
            ]
          },
          "metadata": {},
          "execution_count": 14
        }
      ]
    },
    {
      "cell_type": "code",
      "source": [
        "GDP.drop(3,axis=0,inplace= True)\n",
        "GDP.head()"
      ],
      "metadata": {
        "id": "P7tQTNddbiJk",
        "colab": {
          "base_uri": "https://localhost:8080/",
          "height": 664
        },
        "outputId": "b9d0aa6b-3c21-49c4-cbbe-7f81f76daa72"
      },
      "execution_count": null,
      "outputs": [
        {
          "output_type": "execute_result",
          "data": {
            "text/plain": [
              "   index      Country Country Code                            Indicator Name  \\\n",
              "0      4        Aruba          ABW  GDP at market prices (constant 2010 US$)   \n",
              "1      5      Andorra          AND  GDP at market prices (constant 2010 US$)   \n",
              "2      6  Afghanistan          AFG  GDP at market prices (constant 2010 US$)   \n",
              "4      8      Albania          ALB  GDP at market prices (constant 2010 US$)   \n",
              "5      9   Arab World          ARB  GDP at market prices (constant 2010 US$)   \n",
              "\n",
              "   Indicator Code  1960  1961  1962  1963  1964  ...          2006  \\\n",
              "0  NY.GDP.MKTP.KD   NaN   NaN   NaN   NaN   NaN  ...           NaN   \n",
              "1  NY.GDP.MKTP.KD   NaN   NaN   NaN   NaN   NaN  ...  4.018196e+09   \n",
              "2  NY.GDP.MKTP.KD   NaN   NaN   NaN   NaN   NaN  ...  1.030523e+10   \n",
              "4  NY.GDP.MKTP.KD   NaN   NaN   NaN   NaN   NaN  ...  9.771760e+09   \n",
              "5  NY.GDP.MKTP.KD   NaN   NaN   NaN   NaN   NaN  ...  1.763820e+12   \n",
              "\n",
              "           2007          2008          2009          2010          2011  \\\n",
              "0           NaN           NaN           NaN  2.467704e+09           NaN   \n",
              "1  4.021331e+09  3.675728e+09  3.535389e+09  3.346317e+09  3.185605e+09   \n",
              "2  1.172119e+10  1.214448e+10  1.469733e+10  1.593680e+10  1.691113e+10   \n",
              "4  1.034829e+10  1.112752e+10  1.150029e+10  1.192695e+10  1.223109e+10   \n",
              "5  1.863480e+12  1.980980e+12  2.011000e+12  2.103820e+12  2.173900e+12   \n",
              "\n",
              "           2012          2013          2014          2015  \n",
              "0           NaN           NaN           NaN           NaN  \n",
              "1  3.129538e+09  3.127550e+09           NaN           NaN  \n",
              "2  1.935220e+10  1.973134e+10  1.999032e+10  2.029415e+10  \n",
              "4  1.240477e+10  1.254247e+10  1.279331e+10  1.312082e+10  \n",
              "5  2.318270e+12  2.385580e+12  2.436660e+12  2.509070e+12  \n",
              "\n",
              "[5 rows x 61 columns]"
            ],
            "text/html": [
              "\n",
              "  <div id=\"df-9090d7e2-af4b-40ff-8fdb-5b157edef50d\">\n",
              "    <div class=\"colab-df-container\">\n",
              "      <div>\n",
              "<style scoped>\n",
              "    .dataframe tbody tr th:only-of-type {\n",
              "        vertical-align: middle;\n",
              "    }\n",
              "\n",
              "    .dataframe tbody tr th {\n",
              "        vertical-align: top;\n",
              "    }\n",
              "\n",
              "    .dataframe thead th {\n",
              "        text-align: right;\n",
              "    }\n",
              "</style>\n",
              "<table border=\"1\" class=\"dataframe\">\n",
              "  <thead>\n",
              "    <tr style=\"text-align: right;\">\n",
              "      <th></th>\n",
              "      <th>index</th>\n",
              "      <th>Country</th>\n",
              "      <th>Country Code</th>\n",
              "      <th>Indicator Name</th>\n",
              "      <th>Indicator Code</th>\n",
              "      <th>1960</th>\n",
              "      <th>1961</th>\n",
              "      <th>1962</th>\n",
              "      <th>1963</th>\n",
              "      <th>1964</th>\n",
              "      <th>...</th>\n",
              "      <th>2006</th>\n",
              "      <th>2007</th>\n",
              "      <th>2008</th>\n",
              "      <th>2009</th>\n",
              "      <th>2010</th>\n",
              "      <th>2011</th>\n",
              "      <th>2012</th>\n",
              "      <th>2013</th>\n",
              "      <th>2014</th>\n",
              "      <th>2015</th>\n",
              "    </tr>\n",
              "  </thead>\n",
              "  <tbody>\n",
              "    <tr>\n",
              "      <th>0</th>\n",
              "      <td>4</td>\n",
              "      <td>Aruba</td>\n",
              "      <td>ABW</td>\n",
              "      <td>GDP at market prices (constant 2010 US$)</td>\n",
              "      <td>NY.GDP.MKTP.KD</td>\n",
              "      <td>NaN</td>\n",
              "      <td>NaN</td>\n",
              "      <td>NaN</td>\n",
              "      <td>NaN</td>\n",
              "      <td>NaN</td>\n",
              "      <td>...</td>\n",
              "      <td>NaN</td>\n",
              "      <td>NaN</td>\n",
              "      <td>NaN</td>\n",
              "      <td>NaN</td>\n",
              "      <td>2.467704e+09</td>\n",
              "      <td>NaN</td>\n",
              "      <td>NaN</td>\n",
              "      <td>NaN</td>\n",
              "      <td>NaN</td>\n",
              "      <td>NaN</td>\n",
              "    </tr>\n",
              "    <tr>\n",
              "      <th>1</th>\n",
              "      <td>5</td>\n",
              "      <td>Andorra</td>\n",
              "      <td>AND</td>\n",
              "      <td>GDP at market prices (constant 2010 US$)</td>\n",
              "      <td>NY.GDP.MKTP.KD</td>\n",
              "      <td>NaN</td>\n",
              "      <td>NaN</td>\n",
              "      <td>NaN</td>\n",
              "      <td>NaN</td>\n",
              "      <td>NaN</td>\n",
              "      <td>...</td>\n",
              "      <td>4.018196e+09</td>\n",
              "      <td>4.021331e+09</td>\n",
              "      <td>3.675728e+09</td>\n",
              "      <td>3.535389e+09</td>\n",
              "      <td>3.346317e+09</td>\n",
              "      <td>3.185605e+09</td>\n",
              "      <td>3.129538e+09</td>\n",
              "      <td>3.127550e+09</td>\n",
              "      <td>NaN</td>\n",
              "      <td>NaN</td>\n",
              "    </tr>\n",
              "    <tr>\n",
              "      <th>2</th>\n",
              "      <td>6</td>\n",
              "      <td>Afghanistan</td>\n",
              "      <td>AFG</td>\n",
              "      <td>GDP at market prices (constant 2010 US$)</td>\n",
              "      <td>NY.GDP.MKTP.KD</td>\n",
              "      <td>NaN</td>\n",
              "      <td>NaN</td>\n",
              "      <td>NaN</td>\n",
              "      <td>NaN</td>\n",
              "      <td>NaN</td>\n",
              "      <td>...</td>\n",
              "      <td>1.030523e+10</td>\n",
              "      <td>1.172119e+10</td>\n",
              "      <td>1.214448e+10</td>\n",
              "      <td>1.469733e+10</td>\n",
              "      <td>1.593680e+10</td>\n",
              "      <td>1.691113e+10</td>\n",
              "      <td>1.935220e+10</td>\n",
              "      <td>1.973134e+10</td>\n",
              "      <td>1.999032e+10</td>\n",
              "      <td>2.029415e+10</td>\n",
              "    </tr>\n",
              "    <tr>\n",
              "      <th>4</th>\n",
              "      <td>8</td>\n",
              "      <td>Albania</td>\n",
              "      <td>ALB</td>\n",
              "      <td>GDP at market prices (constant 2010 US$)</td>\n",
              "      <td>NY.GDP.MKTP.KD</td>\n",
              "      <td>NaN</td>\n",
              "      <td>NaN</td>\n",
              "      <td>NaN</td>\n",
              "      <td>NaN</td>\n",
              "      <td>NaN</td>\n",
              "      <td>...</td>\n",
              "      <td>9.771760e+09</td>\n",
              "      <td>1.034829e+10</td>\n",
              "      <td>1.112752e+10</td>\n",
              "      <td>1.150029e+10</td>\n",
              "      <td>1.192695e+10</td>\n",
              "      <td>1.223109e+10</td>\n",
              "      <td>1.240477e+10</td>\n",
              "      <td>1.254247e+10</td>\n",
              "      <td>1.279331e+10</td>\n",
              "      <td>1.312082e+10</td>\n",
              "    </tr>\n",
              "    <tr>\n",
              "      <th>5</th>\n",
              "      <td>9</td>\n",
              "      <td>Arab World</td>\n",
              "      <td>ARB</td>\n",
              "      <td>GDP at market prices (constant 2010 US$)</td>\n",
              "      <td>NY.GDP.MKTP.KD</td>\n",
              "      <td>NaN</td>\n",
              "      <td>NaN</td>\n",
              "      <td>NaN</td>\n",
              "      <td>NaN</td>\n",
              "      <td>NaN</td>\n",
              "      <td>...</td>\n",
              "      <td>1.763820e+12</td>\n",
              "      <td>1.863480e+12</td>\n",
              "      <td>1.980980e+12</td>\n",
              "      <td>2.011000e+12</td>\n",
              "      <td>2.103820e+12</td>\n",
              "      <td>2.173900e+12</td>\n",
              "      <td>2.318270e+12</td>\n",
              "      <td>2.385580e+12</td>\n",
              "      <td>2.436660e+12</td>\n",
              "      <td>2.509070e+12</td>\n",
              "    </tr>\n",
              "  </tbody>\n",
              "</table>\n",
              "<p>5 rows × 61 columns</p>\n",
              "</div>\n",
              "      <button class=\"colab-df-convert\" onclick=\"convertToInteractive('df-9090d7e2-af4b-40ff-8fdb-5b157edef50d')\"\n",
              "              title=\"Convert this dataframe to an interactive table.\"\n",
              "              style=\"display:none;\">\n",
              "        \n",
              "  <svg xmlns=\"http://www.w3.org/2000/svg\" height=\"24px\"viewBox=\"0 0 24 24\"\n",
              "       width=\"24px\">\n",
              "    <path d=\"M0 0h24v24H0V0z\" fill=\"none\"/>\n",
              "    <path d=\"M18.56 5.44l.94 2.06.94-2.06 2.06-.94-2.06-.94-.94-2.06-.94 2.06-2.06.94zm-11 1L8.5 8.5l.94-2.06 2.06-.94-2.06-.94L8.5 2.5l-.94 2.06-2.06.94zm10 10l.94 2.06.94-2.06 2.06-.94-2.06-.94-.94-2.06-.94 2.06-2.06.94z\"/><path d=\"M17.41 7.96l-1.37-1.37c-.4-.4-.92-.59-1.43-.59-.52 0-1.04.2-1.43.59L10.3 9.45l-7.72 7.72c-.78.78-.78 2.05 0 2.83L4 21.41c.39.39.9.59 1.41.59.51 0 1.02-.2 1.41-.59l7.78-7.78 2.81-2.81c.8-.78.8-2.07 0-2.86zM5.41 20L4 18.59l7.72-7.72 1.47 1.35L5.41 20z\"/>\n",
              "  </svg>\n",
              "      </button>\n",
              "      \n",
              "  <style>\n",
              "    .colab-df-container {\n",
              "      display:flex;\n",
              "      flex-wrap:wrap;\n",
              "      gap: 12px;\n",
              "    }\n",
              "\n",
              "    .colab-df-convert {\n",
              "      background-color: #E8F0FE;\n",
              "      border: none;\n",
              "      border-radius: 50%;\n",
              "      cursor: pointer;\n",
              "      display: none;\n",
              "      fill: #1967D2;\n",
              "      height: 32px;\n",
              "      padding: 0 0 0 0;\n",
              "      width: 32px;\n",
              "    }\n",
              "\n",
              "    .colab-df-convert:hover {\n",
              "      background-color: #E2EBFA;\n",
              "      box-shadow: 0px 1px 2px rgba(60, 64, 67, 0.3), 0px 1px 3px 1px rgba(60, 64, 67, 0.15);\n",
              "      fill: #174EA6;\n",
              "    }\n",
              "\n",
              "    [theme=dark] .colab-df-convert {\n",
              "      background-color: #3B4455;\n",
              "      fill: #D2E3FC;\n",
              "    }\n",
              "\n",
              "    [theme=dark] .colab-df-convert:hover {\n",
              "      background-color: #434B5C;\n",
              "      box-shadow: 0px 1px 3px 1px rgba(0, 0, 0, 0.15);\n",
              "      filter: drop-shadow(0px 1px 2px rgba(0, 0, 0, 0.3));\n",
              "      fill: #FFFFFF;\n",
              "    }\n",
              "  </style>\n",
              "\n",
              "      <script>\n",
              "        const buttonEl =\n",
              "          document.querySelector('#df-9090d7e2-af4b-40ff-8fdb-5b157edef50d button.colab-df-convert');\n",
              "        buttonEl.style.display =\n",
              "          google.colab.kernel.accessAllowed ? 'block' : 'none';\n",
              "\n",
              "        async function convertToInteractive(key) {\n",
              "          const element = document.querySelector('#df-9090d7e2-af4b-40ff-8fdb-5b157edef50d');\n",
              "          const dataTable =\n",
              "            await google.colab.kernel.invokeFunction('convertToInteractive',\n",
              "                                                     [key], {});\n",
              "          if (!dataTable) return;\n",
              "\n",
              "          const docLinkHtml = 'Like what you see? Visit the ' +\n",
              "            '<a target=\"_blank\" href=https://colab.research.google.com/notebooks/data_table.ipynb>data table notebook</a>'\n",
              "            + ' to learn more about interactive tables.';\n",
              "          element.innerHTML = '';\n",
              "          dataTable['output_type'] = 'display_data';\n",
              "          await google.colab.output.renderOutput(dataTable, element);\n",
              "          const docLink = document.createElement('div');\n",
              "          docLink.innerHTML = docLinkHtml;\n",
              "          element.appendChild(docLink);\n",
              "        }\n",
              "      </script>\n",
              "    </div>\n",
              "  </div>\n",
              "  "
            ]
          },
          "metadata": {},
          "execution_count": 15
        }
      ]
    },
    {
      "cell_type": "code",
      "source": [
        "for col in GDP.select_dtypes(exclude='object').columns:\n",
        "  GDP.rename(columns={col:int(col)},inplace=True)\n",
        "GDP"
      ],
      "metadata": {
        "id": "3ttVQrryYw7Q",
        "colab": {
          "base_uri": "https://localhost:8080/",
          "height": 207
        },
        "outputId": "92b9e4ab-7ce7-4afd-e683-a5303d92e862"
      },
      "execution_count": null,
      "outputs": [
        {
          "output_type": "error",
          "ename": "ValueError",
          "evalue": "ignored",
          "traceback": [
            "\u001b[0;31m---------------------------------------------------------------------------\u001b[0m",
            "\u001b[0;31mValueError\u001b[0m                                Traceback (most recent call last)",
            "\u001b[0;32m<ipython-input-16-2c3763e1145e>\u001b[0m in \u001b[0;36m<module>\u001b[0;34m()\u001b[0m\n\u001b[1;32m      1\u001b[0m \u001b[0;32mfor\u001b[0m \u001b[0mcol\u001b[0m \u001b[0;32min\u001b[0m \u001b[0mGDP\u001b[0m\u001b[0;34m.\u001b[0m\u001b[0mselect_dtypes\u001b[0m\u001b[0;34m(\u001b[0m\u001b[0mexclude\u001b[0m\u001b[0;34m=\u001b[0m\u001b[0;34m'object'\u001b[0m\u001b[0;34m)\u001b[0m\u001b[0;34m.\u001b[0m\u001b[0mcolumns\u001b[0m\u001b[0;34m:\u001b[0m\u001b[0;34m\u001b[0m\u001b[0;34m\u001b[0m\u001b[0m\n\u001b[0;32m----> 2\u001b[0;31m   \u001b[0mGDP\u001b[0m\u001b[0;34m.\u001b[0m\u001b[0mrename\u001b[0m\u001b[0;34m(\u001b[0m\u001b[0mcolumns\u001b[0m\u001b[0;34m=\u001b[0m\u001b[0;34m{\u001b[0m\u001b[0mcol\u001b[0m\u001b[0;34m:\u001b[0m\u001b[0mint\u001b[0m\u001b[0;34m(\u001b[0m\u001b[0mcol\u001b[0m\u001b[0;34m)\u001b[0m\u001b[0;34m}\u001b[0m\u001b[0;34m,\u001b[0m\u001b[0minplace\u001b[0m\u001b[0;34m=\u001b[0m\u001b[0;32mTrue\u001b[0m\u001b[0;34m)\u001b[0m\u001b[0;34m\u001b[0m\u001b[0;34m\u001b[0m\u001b[0m\n\u001b[0m\u001b[1;32m      3\u001b[0m \u001b[0mGDP\u001b[0m\u001b[0;34m\u001b[0m\u001b[0;34m\u001b[0m\u001b[0m\n",
            "\u001b[0;31mValueError\u001b[0m: invalid literal for int() with base 10: 'index'"
          ]
        }
      ]
    },
    {
      "cell_type": "code",
      "source": [
        "GDP.reset_index(inplace = True)\n",
        "GDP.head()"
      ],
      "metadata": {
        "id": "nlplSv1Oa7ZU"
      },
      "execution_count": null,
      "outputs": []
    },
    {
      "cell_type": "code",
      "source": [
        "GDP.drop(columns=['index'],axis=1,inplace= True)"
      ],
      "metadata": {
        "id": "4tNCX4CAcWrH"
      },
      "execution_count": null,
      "outputs": []
    },
    {
      "cell_type": "code",
      "source": [
        "GDP.head()"
      ],
      "metadata": {
        "id": "83UzzDVPcf4h"
      },
      "execution_count": null,
      "outputs": []
    },
    {
      "cell_type": "code",
      "source": [
        "ScimEn=pd.read_excel('/content/scimagojr-3.xlsx')\n",
        "ScimEn.head()"
      ],
      "metadata": {
        "id": "WxbP8oUu9cqP"
      },
      "execution_count": null,
      "outputs": []
    },
    {
      "cell_type": "code",
      "source": [
        "# energy['Energy Supply']= energy.loc[(energy['Energy Supply']=='...'),'Energy Supply'].replace('...',np.nan)  \n",
        "#energy['Energy Supply']= energy['Energy Supply'].replace('...',np.nan)"
      ],
      "metadata": {
        "id": "XyyNREGsfJg_"
      },
      "execution_count": null,
      "outputs": []
    },
    {
      "cell_type": "code",
      "source": [
        "import re\n",
        "# a= lambda x:x[:-len(re.findall('\\d',x))]\n",
        "# energy[energy['Country'].str.match('\\w+\\d+')==True]['Country'].apply(a)\n",
        "# energy[energy['Country'].str.match('\\(')==True]\n"
      ],
      "metadata": {
        "id": "dEOn_j0RojVf"
      },
      "execution_count": null,
      "outputs": []
    },
    {
      "cell_type": "code",
      "source": [
        "# z={\"Republic of Korea\": \"South Korea\", \"United States of America20\": \"United States\", \"United Kingdom of Great Britain and Northern Ireland19\": \"United Kingdom\", \"China, Hong Kong Special Administrative Region3\": \"Hong Kong\"}\n",
        "# energy.loc[energy['Country'].isin(list(z.keys()))]"
      ],
      "metadata": {
        "id": "4CtNwdgtkICa"
      },
      "execution_count": null,
      "outputs": []
    },
    {
      "cell_type": "code",
      "source": [
        "# energy['Country'].isin(list(z.keys())).sum()\n",
        "# energy['Country'].unique()\n"
      ],
      "metadata": {
        "id": "opAf4eHelNXm"
      },
      "execution_count": null,
      "outputs": []
    },
    {
      "cell_type": "code",
      "source": [
        "energy['Country'].head(45)"
      ],
      "metadata": {
        "id": "c35oddCIhviV"
      },
      "execution_count": null,
      "outputs": []
    },
    {
      "cell_type": "code",
      "source": [],
      "metadata": {
        "id": "7QVKYqRdTAuO"
      },
      "execution_count": null,
      "outputs": []
    },
    {
      "cell_type": "code",
      "source": [
        "df = pd.merge(energy, GDP, on='Country', how='inner')\n",
        "df = df.merge(ScimEn,how='right', on='Country')\n",
        "df.head()"
      ],
      "metadata": {
        "id": "GASUUG-JFIpd"
      },
      "execution_count": null,
      "outputs": []
    },
    {
      "cell_type": "code",
      "source": [],
      "metadata": {
        "id": "URZzpUMxFIjJ"
      },
      "execution_count": null,
      "outputs": []
    },
    {
      "cell_type": "code",
      "execution_count": null,
      "metadata": {
        "collapsed": true,
        "jupyter": {
          "outputs_hidden": true
        },
        "umich_part_id": "009",
        "umich_partlist_id": "003",
        "id": "yoa-mzVuHrg6",
        "colab": {
          "base_uri": "https://localhost:8080/",
          "height": 809
        },
        "outputId": "0d11414a-498d-4bd8-aafe-a1b7a63a4a8d"
      },
      "outputs": [
        {
          "output_type": "stream",
          "name": "stderr",
          "text": [
            "/usr/local/lib/python3.7/dist-packages/ipykernel_launcher.py:12: FutureWarning: The default value of regex will change from True to False in a future version.\n",
            "  if sys.path[0] == '':\n",
            "/usr/local/lib/python3.7/dist-packages/ipykernel_launcher.py:13: FutureWarning: The default value of regex will change from True to False in a future version.\n",
            "  del sys.path[0]\n"
          ]
        },
        {
          "output_type": "execute_result",
          "data": {
            "text/plain": [
              "                    Rank  Documents  Citable documents  Citations  \\\n",
              "Country                                                             \n",
              "China                  1     127050             126767     597237   \n",
              "United States          2      96661              94747     792274   \n",
              "Japan                  3      30504              30287     223024   \n",
              "United Kingdom         4      20944              20357     206091   \n",
              "Russian Federation     5      18534              18301      34266   \n",
              "Canada                 6      17899              17620     215003   \n",
              "Germany                7      17027              16831     140566   \n",
              "India                  8      15005              14841     128763   \n",
              "France                 9      13153              12973     130632   \n",
              "South Korea           10      11983              11923     114675   \n",
              "Italy                 11      10964              10794     111850   \n",
              "Spain                 12       9428               9330     123336   \n",
              "Iran                  13       8896               8819      57470   \n",
              "Australia             14       8831               8725      90765   \n",
              "Brazil                15       8668               8596      60702   \n",
              "\n",
              "                    Self-citations  Citations per document  H index  \\\n",
              "Country                                                               \n",
              "China                       411683                    4.70      138   \n",
              "United States               265436                    8.20      230   \n",
              "Japan                        61554                    7.31      134   \n",
              "United Kingdom               37874                    9.84      139   \n",
              "Russian Federation           12422                    1.85       57   \n",
              "Canada                       40930                   12.01      149   \n",
              "Germany                      27426                    8.26      126   \n",
              "India                        37209                    8.58      115   \n",
              "France                       28601                    9.93      114   \n",
              "South Korea                  22595                    9.57      104   \n",
              "Italy                        26661                   10.20      106   \n",
              "Spain                        23964                   13.08      115   \n",
              "Iran                         19125                    6.46       72   \n",
              "Australia                    15606                   10.28      107   \n",
              "Brazil                       14396                    7.00       86   \n",
              "\n",
              "                   Energy Supply Energy Supply per Capita % Renewable  \\\n",
              "Country                                                                 \n",
              "China                     127191                       93    19.75491   \n",
              "United States              90838                      286    11.57098   \n",
              "Japan                      18984                      149    10.23282   \n",
              "United Kingdom              7920                      124    10.60047   \n",
              "Russian Federation         30709                      214    17.28868   \n",
              "Canada                     10431                      296    61.94543   \n",
              "Germany                    13261                      165    17.90153   \n",
              "India                      33195                       26    14.96908   \n",
              "France                     10597                      166    17.02028   \n",
              "South Korea                11007                      221    2.279353   \n",
              "Italy                       6530                      109    33.66723   \n",
              "Spain                       4923                      106    37.96859   \n",
              "Iran                        9172                      119    5.707721   \n",
              "Australia                   5386                      231    11.81081   \n",
              "Brazil                     12149                       59    69.64803   \n",
              "\n",
              "                            2006          2007          2008          2009  \\\n",
              "Country                                                                      \n",
              "China               3.992330e+12  4.559040e+12  4.997780e+12  5.459250e+12   \n",
              "United States       1.479230e+13  1.505540e+13  1.501150e+13  1.459480e+13   \n",
              "Japan               5.496540e+12  5.617040e+12  5.558530e+12  5.251310e+12   \n",
              "United Kingdom      2.419630e+12  2.482200e+12  2.470610e+12  2.367050e+12   \n",
              "Russian Federation  1.385790e+12  1.504070e+12  1.583000e+12  1.459200e+12   \n",
              "Canada              1.564470e+12  1.596740e+12  1.612710e+12  1.565140e+12   \n",
              "Germany             3.332890e+12  3.441560e+12  3.478810e+12  3.283340e+12   \n",
              "India               1.265890e+12  1.374870e+12  1.428360e+12  1.549480e+12   \n",
              "France              2.607840e+12  2.669420e+12  2.674640e+12  2.595970e+12   \n",
              "South Korea         9.410200e+11  9.924320e+11  1.020510e+12  1.027730e+12   \n",
              "Italy               2.202170e+12  2.234630e+12  2.211150e+12  2.089940e+12   \n",
              "Spain               1.414820e+12  1.468150e+12  1.484530e+12  1.431480e+12   \n",
              "Iran                3.895520e+11  4.250650e+11  4.289910e+11  4.389210e+11   \n",
              "Australia           1.021940e+12  1.060340e+12  1.099640e+12  1.119650e+12   \n",
              "Brazil              1.845080e+12  1.957120e+12  2.056810e+12  2.054210e+12   \n",
              "\n",
              "                            2010          2011          2012          2013  \\\n",
              "Country                                                                      \n",
              "China               6.039660e+12  6.612490e+12  7.124980e+12  7.672450e+12   \n",
              "United States       1.496440e+13  1.520400e+13  1.554220e+13  1.577370e+13   \n",
              "Japan               5.498720e+12  5.473740e+12  5.569100e+12  5.644660e+12   \n",
              "United Kingdom      2.403500e+12  2.450910e+12  2.479810e+12  2.533370e+12   \n",
              "Russian Federation  1.524920e+12  1.589940e+12  1.645880e+12  1.666930e+12   \n",
              "Canada              1.613410e+12  1.664090e+12  1.693130e+12  1.730690e+12   \n",
              "Germany             3.417300e+12  3.542370e+12  3.556720e+12  3.567320e+12   \n",
              "India               1.708460e+12  1.821870e+12  1.924240e+12  2.051980e+12   \n",
              "France              2.646990e+12  2.702030e+12  2.706970e+12  2.722570e+12   \n",
              "South Korea         1.094500e+12  1.134800e+12  1.160810e+12  1.194430e+12   \n",
              "Italy               2.125180e+12  2.137440e+12  2.077180e+12  2.040870e+12   \n",
              "Spain               1.431670e+12  1.417350e+12  1.380220e+12  1.357140e+12   \n",
              "Iran                4.677900e+11  4.853310e+11  4.532570e+11  4.445930e+11   \n",
              "Australia           1.142250e+12  1.169430e+12  1.211910e+12  1.241480e+12   \n",
              "Brazil              2.208870e+12  2.295240e+12  2.339210e+12  2.409740e+12   \n",
              "\n",
              "                            2014          2015  \n",
              "Country                                         \n",
              "China               8.230120e+12  8.798000e+12  \n",
              "United States       1.615660e+13  1.654860e+13  \n",
              "Japan               5.642880e+12  5.669560e+12  \n",
              "United Kingdom      2.605640e+12  2.666330e+12  \n",
              "Russian Federation  1.678710e+12  1.616150e+12  \n",
              "Canada              1.773490e+12  1.792610e+12  \n",
              "Germany             3.624390e+12  3.685560e+12  \n",
              "India               2.200620e+12  2.367210e+12  \n",
              "France              2.729630e+12  2.761190e+12  \n",
              "South Korea         1.234340e+12  1.266580e+12  \n",
              "Italy               2.033870e+12  2.049320e+12  \n",
              "Spain               1.375610e+12  1.419820e+12  \n",
              "Iran                4.639030e+11           NaN  \n",
              "Australia           1.272520e+12  1.301250e+12  \n",
              "Brazil              2.412230e+12  2.319420e+12  "
            ],
            "text/html": [
              "\n",
              "  <div id=\"df-77a2b655-58ad-4eb9-a8c2-eb3d2a9e83b7\">\n",
              "    <div class=\"colab-df-container\">\n",
              "      <div>\n",
              "<style scoped>\n",
              "    .dataframe tbody tr th:only-of-type {\n",
              "        vertical-align: middle;\n",
              "    }\n",
              "\n",
              "    .dataframe tbody tr th {\n",
              "        vertical-align: top;\n",
              "    }\n",
              "\n",
              "    .dataframe thead th {\n",
              "        text-align: right;\n",
              "    }\n",
              "</style>\n",
              "<table border=\"1\" class=\"dataframe\">\n",
              "  <thead>\n",
              "    <tr style=\"text-align: right;\">\n",
              "      <th></th>\n",
              "      <th>Rank</th>\n",
              "      <th>Documents</th>\n",
              "      <th>Citable documents</th>\n",
              "      <th>Citations</th>\n",
              "      <th>Self-citations</th>\n",
              "      <th>Citations per document</th>\n",
              "      <th>H index</th>\n",
              "      <th>Energy Supply</th>\n",
              "      <th>Energy Supply per Capita</th>\n",
              "      <th>% Renewable</th>\n",
              "      <th>2006</th>\n",
              "      <th>2007</th>\n",
              "      <th>2008</th>\n",
              "      <th>2009</th>\n",
              "      <th>2010</th>\n",
              "      <th>2011</th>\n",
              "      <th>2012</th>\n",
              "      <th>2013</th>\n",
              "      <th>2014</th>\n",
              "      <th>2015</th>\n",
              "    </tr>\n",
              "    <tr>\n",
              "      <th>Country</th>\n",
              "      <th></th>\n",
              "      <th></th>\n",
              "      <th></th>\n",
              "      <th></th>\n",
              "      <th></th>\n",
              "      <th></th>\n",
              "      <th></th>\n",
              "      <th></th>\n",
              "      <th></th>\n",
              "      <th></th>\n",
              "      <th></th>\n",
              "      <th></th>\n",
              "      <th></th>\n",
              "      <th></th>\n",
              "      <th></th>\n",
              "      <th></th>\n",
              "      <th></th>\n",
              "      <th></th>\n",
              "      <th></th>\n",
              "      <th></th>\n",
              "    </tr>\n",
              "  </thead>\n",
              "  <tbody>\n",
              "    <tr>\n",
              "      <th>China</th>\n",
              "      <td>1</td>\n",
              "      <td>127050</td>\n",
              "      <td>126767</td>\n",
              "      <td>597237</td>\n",
              "      <td>411683</td>\n",
              "      <td>4.70</td>\n",
              "      <td>138</td>\n",
              "      <td>127191</td>\n",
              "      <td>93</td>\n",
              "      <td>19.75491</td>\n",
              "      <td>3.992330e+12</td>\n",
              "      <td>4.559040e+12</td>\n",
              "      <td>4.997780e+12</td>\n",
              "      <td>5.459250e+12</td>\n",
              "      <td>6.039660e+12</td>\n",
              "      <td>6.612490e+12</td>\n",
              "      <td>7.124980e+12</td>\n",
              "      <td>7.672450e+12</td>\n",
              "      <td>8.230120e+12</td>\n",
              "      <td>8.798000e+12</td>\n",
              "    </tr>\n",
              "    <tr>\n",
              "      <th>United States</th>\n",
              "      <td>2</td>\n",
              "      <td>96661</td>\n",
              "      <td>94747</td>\n",
              "      <td>792274</td>\n",
              "      <td>265436</td>\n",
              "      <td>8.20</td>\n",
              "      <td>230</td>\n",
              "      <td>90838</td>\n",
              "      <td>286</td>\n",
              "      <td>11.57098</td>\n",
              "      <td>1.479230e+13</td>\n",
              "      <td>1.505540e+13</td>\n",
              "      <td>1.501150e+13</td>\n",
              "      <td>1.459480e+13</td>\n",
              "      <td>1.496440e+13</td>\n",
              "      <td>1.520400e+13</td>\n",
              "      <td>1.554220e+13</td>\n",
              "      <td>1.577370e+13</td>\n",
              "      <td>1.615660e+13</td>\n",
              "      <td>1.654860e+13</td>\n",
              "    </tr>\n",
              "    <tr>\n",
              "      <th>Japan</th>\n",
              "      <td>3</td>\n",
              "      <td>30504</td>\n",
              "      <td>30287</td>\n",
              "      <td>223024</td>\n",
              "      <td>61554</td>\n",
              "      <td>7.31</td>\n",
              "      <td>134</td>\n",
              "      <td>18984</td>\n",
              "      <td>149</td>\n",
              "      <td>10.23282</td>\n",
              "      <td>5.496540e+12</td>\n",
              "      <td>5.617040e+12</td>\n",
              "      <td>5.558530e+12</td>\n",
              "      <td>5.251310e+12</td>\n",
              "      <td>5.498720e+12</td>\n",
              "      <td>5.473740e+12</td>\n",
              "      <td>5.569100e+12</td>\n",
              "      <td>5.644660e+12</td>\n",
              "      <td>5.642880e+12</td>\n",
              "      <td>5.669560e+12</td>\n",
              "    </tr>\n",
              "    <tr>\n",
              "      <th>United Kingdom</th>\n",
              "      <td>4</td>\n",
              "      <td>20944</td>\n",
              "      <td>20357</td>\n",
              "      <td>206091</td>\n",
              "      <td>37874</td>\n",
              "      <td>9.84</td>\n",
              "      <td>139</td>\n",
              "      <td>7920</td>\n",
              "      <td>124</td>\n",
              "      <td>10.60047</td>\n",
              "      <td>2.419630e+12</td>\n",
              "      <td>2.482200e+12</td>\n",
              "      <td>2.470610e+12</td>\n",
              "      <td>2.367050e+12</td>\n",
              "      <td>2.403500e+12</td>\n",
              "      <td>2.450910e+12</td>\n",
              "      <td>2.479810e+12</td>\n",
              "      <td>2.533370e+12</td>\n",
              "      <td>2.605640e+12</td>\n",
              "      <td>2.666330e+12</td>\n",
              "    </tr>\n",
              "    <tr>\n",
              "      <th>Russian Federation</th>\n",
              "      <td>5</td>\n",
              "      <td>18534</td>\n",
              "      <td>18301</td>\n",
              "      <td>34266</td>\n",
              "      <td>12422</td>\n",
              "      <td>1.85</td>\n",
              "      <td>57</td>\n",
              "      <td>30709</td>\n",
              "      <td>214</td>\n",
              "      <td>17.28868</td>\n",
              "      <td>1.385790e+12</td>\n",
              "      <td>1.504070e+12</td>\n",
              "      <td>1.583000e+12</td>\n",
              "      <td>1.459200e+12</td>\n",
              "      <td>1.524920e+12</td>\n",
              "      <td>1.589940e+12</td>\n",
              "      <td>1.645880e+12</td>\n",
              "      <td>1.666930e+12</td>\n",
              "      <td>1.678710e+12</td>\n",
              "      <td>1.616150e+12</td>\n",
              "    </tr>\n",
              "    <tr>\n",
              "      <th>Canada</th>\n",
              "      <td>6</td>\n",
              "      <td>17899</td>\n",
              "      <td>17620</td>\n",
              "      <td>215003</td>\n",
              "      <td>40930</td>\n",
              "      <td>12.01</td>\n",
              "      <td>149</td>\n",
              "      <td>10431</td>\n",
              "      <td>296</td>\n",
              "      <td>61.94543</td>\n",
              "      <td>1.564470e+12</td>\n",
              "      <td>1.596740e+12</td>\n",
              "      <td>1.612710e+12</td>\n",
              "      <td>1.565140e+12</td>\n",
              "      <td>1.613410e+12</td>\n",
              "      <td>1.664090e+12</td>\n",
              "      <td>1.693130e+12</td>\n",
              "      <td>1.730690e+12</td>\n",
              "      <td>1.773490e+12</td>\n",
              "      <td>1.792610e+12</td>\n",
              "    </tr>\n",
              "    <tr>\n",
              "      <th>Germany</th>\n",
              "      <td>7</td>\n",
              "      <td>17027</td>\n",
              "      <td>16831</td>\n",
              "      <td>140566</td>\n",
              "      <td>27426</td>\n",
              "      <td>8.26</td>\n",
              "      <td>126</td>\n",
              "      <td>13261</td>\n",
              "      <td>165</td>\n",
              "      <td>17.90153</td>\n",
              "      <td>3.332890e+12</td>\n",
              "      <td>3.441560e+12</td>\n",
              "      <td>3.478810e+12</td>\n",
              "      <td>3.283340e+12</td>\n",
              "      <td>3.417300e+12</td>\n",
              "      <td>3.542370e+12</td>\n",
              "      <td>3.556720e+12</td>\n",
              "      <td>3.567320e+12</td>\n",
              "      <td>3.624390e+12</td>\n",
              "      <td>3.685560e+12</td>\n",
              "    </tr>\n",
              "    <tr>\n",
              "      <th>India</th>\n",
              "      <td>8</td>\n",
              "      <td>15005</td>\n",
              "      <td>14841</td>\n",
              "      <td>128763</td>\n",
              "      <td>37209</td>\n",
              "      <td>8.58</td>\n",
              "      <td>115</td>\n",
              "      <td>33195</td>\n",
              "      <td>26</td>\n",
              "      <td>14.96908</td>\n",
              "      <td>1.265890e+12</td>\n",
              "      <td>1.374870e+12</td>\n",
              "      <td>1.428360e+12</td>\n",
              "      <td>1.549480e+12</td>\n",
              "      <td>1.708460e+12</td>\n",
              "      <td>1.821870e+12</td>\n",
              "      <td>1.924240e+12</td>\n",
              "      <td>2.051980e+12</td>\n",
              "      <td>2.200620e+12</td>\n",
              "      <td>2.367210e+12</td>\n",
              "    </tr>\n",
              "    <tr>\n",
              "      <th>France</th>\n",
              "      <td>9</td>\n",
              "      <td>13153</td>\n",
              "      <td>12973</td>\n",
              "      <td>130632</td>\n",
              "      <td>28601</td>\n",
              "      <td>9.93</td>\n",
              "      <td>114</td>\n",
              "      <td>10597</td>\n",
              "      <td>166</td>\n",
              "      <td>17.02028</td>\n",
              "      <td>2.607840e+12</td>\n",
              "      <td>2.669420e+12</td>\n",
              "      <td>2.674640e+12</td>\n",
              "      <td>2.595970e+12</td>\n",
              "      <td>2.646990e+12</td>\n",
              "      <td>2.702030e+12</td>\n",
              "      <td>2.706970e+12</td>\n",
              "      <td>2.722570e+12</td>\n",
              "      <td>2.729630e+12</td>\n",
              "      <td>2.761190e+12</td>\n",
              "    </tr>\n",
              "    <tr>\n",
              "      <th>South Korea</th>\n",
              "      <td>10</td>\n",
              "      <td>11983</td>\n",
              "      <td>11923</td>\n",
              "      <td>114675</td>\n",
              "      <td>22595</td>\n",
              "      <td>9.57</td>\n",
              "      <td>104</td>\n",
              "      <td>11007</td>\n",
              "      <td>221</td>\n",
              "      <td>2.279353</td>\n",
              "      <td>9.410200e+11</td>\n",
              "      <td>9.924320e+11</td>\n",
              "      <td>1.020510e+12</td>\n",
              "      <td>1.027730e+12</td>\n",
              "      <td>1.094500e+12</td>\n",
              "      <td>1.134800e+12</td>\n",
              "      <td>1.160810e+12</td>\n",
              "      <td>1.194430e+12</td>\n",
              "      <td>1.234340e+12</td>\n",
              "      <td>1.266580e+12</td>\n",
              "    </tr>\n",
              "    <tr>\n",
              "      <th>Italy</th>\n",
              "      <td>11</td>\n",
              "      <td>10964</td>\n",
              "      <td>10794</td>\n",
              "      <td>111850</td>\n",
              "      <td>26661</td>\n",
              "      <td>10.20</td>\n",
              "      <td>106</td>\n",
              "      <td>6530</td>\n",
              "      <td>109</td>\n",
              "      <td>33.66723</td>\n",
              "      <td>2.202170e+12</td>\n",
              "      <td>2.234630e+12</td>\n",
              "      <td>2.211150e+12</td>\n",
              "      <td>2.089940e+12</td>\n",
              "      <td>2.125180e+12</td>\n",
              "      <td>2.137440e+12</td>\n",
              "      <td>2.077180e+12</td>\n",
              "      <td>2.040870e+12</td>\n",
              "      <td>2.033870e+12</td>\n",
              "      <td>2.049320e+12</td>\n",
              "    </tr>\n",
              "    <tr>\n",
              "      <th>Spain</th>\n",
              "      <td>12</td>\n",
              "      <td>9428</td>\n",
              "      <td>9330</td>\n",
              "      <td>123336</td>\n",
              "      <td>23964</td>\n",
              "      <td>13.08</td>\n",
              "      <td>115</td>\n",
              "      <td>4923</td>\n",
              "      <td>106</td>\n",
              "      <td>37.96859</td>\n",
              "      <td>1.414820e+12</td>\n",
              "      <td>1.468150e+12</td>\n",
              "      <td>1.484530e+12</td>\n",
              "      <td>1.431480e+12</td>\n",
              "      <td>1.431670e+12</td>\n",
              "      <td>1.417350e+12</td>\n",
              "      <td>1.380220e+12</td>\n",
              "      <td>1.357140e+12</td>\n",
              "      <td>1.375610e+12</td>\n",
              "      <td>1.419820e+12</td>\n",
              "    </tr>\n",
              "    <tr>\n",
              "      <th>Iran</th>\n",
              "      <td>13</td>\n",
              "      <td>8896</td>\n",
              "      <td>8819</td>\n",
              "      <td>57470</td>\n",
              "      <td>19125</td>\n",
              "      <td>6.46</td>\n",
              "      <td>72</td>\n",
              "      <td>9172</td>\n",
              "      <td>119</td>\n",
              "      <td>5.707721</td>\n",
              "      <td>3.895520e+11</td>\n",
              "      <td>4.250650e+11</td>\n",
              "      <td>4.289910e+11</td>\n",
              "      <td>4.389210e+11</td>\n",
              "      <td>4.677900e+11</td>\n",
              "      <td>4.853310e+11</td>\n",
              "      <td>4.532570e+11</td>\n",
              "      <td>4.445930e+11</td>\n",
              "      <td>4.639030e+11</td>\n",
              "      <td>NaN</td>\n",
              "    </tr>\n",
              "    <tr>\n",
              "      <th>Australia</th>\n",
              "      <td>14</td>\n",
              "      <td>8831</td>\n",
              "      <td>8725</td>\n",
              "      <td>90765</td>\n",
              "      <td>15606</td>\n",
              "      <td>10.28</td>\n",
              "      <td>107</td>\n",
              "      <td>5386</td>\n",
              "      <td>231</td>\n",
              "      <td>11.81081</td>\n",
              "      <td>1.021940e+12</td>\n",
              "      <td>1.060340e+12</td>\n",
              "      <td>1.099640e+12</td>\n",
              "      <td>1.119650e+12</td>\n",
              "      <td>1.142250e+12</td>\n",
              "      <td>1.169430e+12</td>\n",
              "      <td>1.211910e+12</td>\n",
              "      <td>1.241480e+12</td>\n",
              "      <td>1.272520e+12</td>\n",
              "      <td>1.301250e+12</td>\n",
              "    </tr>\n",
              "    <tr>\n",
              "      <th>Brazil</th>\n",
              "      <td>15</td>\n",
              "      <td>8668</td>\n",
              "      <td>8596</td>\n",
              "      <td>60702</td>\n",
              "      <td>14396</td>\n",
              "      <td>7.00</td>\n",
              "      <td>86</td>\n",
              "      <td>12149</td>\n",
              "      <td>59</td>\n",
              "      <td>69.64803</td>\n",
              "      <td>1.845080e+12</td>\n",
              "      <td>1.957120e+12</td>\n",
              "      <td>2.056810e+12</td>\n",
              "      <td>2.054210e+12</td>\n",
              "      <td>2.208870e+12</td>\n",
              "      <td>2.295240e+12</td>\n",
              "      <td>2.339210e+12</td>\n",
              "      <td>2.409740e+12</td>\n",
              "      <td>2.412230e+12</td>\n",
              "      <td>2.319420e+12</td>\n",
              "    </tr>\n",
              "  </tbody>\n",
              "</table>\n",
              "</div>\n",
              "      <button class=\"colab-df-convert\" onclick=\"convertToInteractive('df-77a2b655-58ad-4eb9-a8c2-eb3d2a9e83b7')\"\n",
              "              title=\"Convert this dataframe to an interactive table.\"\n",
              "              style=\"display:none;\">\n",
              "        \n",
              "  <svg xmlns=\"http://www.w3.org/2000/svg\" height=\"24px\"viewBox=\"0 0 24 24\"\n",
              "       width=\"24px\">\n",
              "    <path d=\"M0 0h24v24H0V0z\" fill=\"none\"/>\n",
              "    <path d=\"M18.56 5.44l.94 2.06.94-2.06 2.06-.94-2.06-.94-.94-2.06-.94 2.06-2.06.94zm-11 1L8.5 8.5l.94-2.06 2.06-.94-2.06-.94L8.5 2.5l-.94 2.06-2.06.94zm10 10l.94 2.06.94-2.06 2.06-.94-2.06-.94-.94-2.06-.94 2.06-2.06.94z\"/><path d=\"M17.41 7.96l-1.37-1.37c-.4-.4-.92-.59-1.43-.59-.52 0-1.04.2-1.43.59L10.3 9.45l-7.72 7.72c-.78.78-.78 2.05 0 2.83L4 21.41c.39.39.9.59 1.41.59.51 0 1.02-.2 1.41-.59l7.78-7.78 2.81-2.81c.8-.78.8-2.07 0-2.86zM5.41 20L4 18.59l7.72-7.72 1.47 1.35L5.41 20z\"/>\n",
              "  </svg>\n",
              "      </button>\n",
              "      \n",
              "  <style>\n",
              "    .colab-df-container {\n",
              "      display:flex;\n",
              "      flex-wrap:wrap;\n",
              "      gap: 12px;\n",
              "    }\n",
              "\n",
              "    .colab-df-convert {\n",
              "      background-color: #E8F0FE;\n",
              "      border: none;\n",
              "      border-radius: 50%;\n",
              "      cursor: pointer;\n",
              "      display: none;\n",
              "      fill: #1967D2;\n",
              "      height: 32px;\n",
              "      padding: 0 0 0 0;\n",
              "      width: 32px;\n",
              "    }\n",
              "\n",
              "    .colab-df-convert:hover {\n",
              "      background-color: #E2EBFA;\n",
              "      box-shadow: 0px 1px 2px rgba(60, 64, 67, 0.3), 0px 1px 3px 1px rgba(60, 64, 67, 0.15);\n",
              "      fill: #174EA6;\n",
              "    }\n",
              "\n",
              "    [theme=dark] .colab-df-convert {\n",
              "      background-color: #3B4455;\n",
              "      fill: #D2E3FC;\n",
              "    }\n",
              "\n",
              "    [theme=dark] .colab-df-convert:hover {\n",
              "      background-color: #434B5C;\n",
              "      box-shadow: 0px 1px 3px 1px rgba(0, 0, 0, 0.15);\n",
              "      filter: drop-shadow(0px 1px 2px rgba(0, 0, 0, 0.3));\n",
              "      fill: #FFFFFF;\n",
              "    }\n",
              "  </style>\n",
              "\n",
              "      <script>\n",
              "        const buttonEl =\n",
              "          document.querySelector('#df-77a2b655-58ad-4eb9-a8c2-eb3d2a9e83b7 button.colab-df-convert');\n",
              "        buttonEl.style.display =\n",
              "          google.colab.kernel.accessAllowed ? 'block' : 'none';\n",
              "\n",
              "        async function convertToInteractive(key) {\n",
              "          const element = document.querySelector('#df-77a2b655-58ad-4eb9-a8c2-eb3d2a9e83b7');\n",
              "          const dataTable =\n",
              "            await google.colab.kernel.invokeFunction('convertToInteractive',\n",
              "                                                     [key], {});\n",
              "          if (!dataTable) return;\n",
              "\n",
              "          const docLinkHtml = 'Like what you see? Visit the ' +\n",
              "            '<a target=\"_blank\" href=https://colab.research.google.com/notebooks/data_table.ipynb>data table notebook</a>'\n",
              "            + ' to learn more about interactive tables.';\n",
              "          element.innerHTML = '';\n",
              "          dataTable['output_type'] = 'display_data';\n",
              "          await google.colab.output.renderOutput(dataTable, element);\n",
              "          const docLink = document.createElement('div');\n",
              "          docLink.innerHTML = docLinkHtml;\n",
              "          element.appendChild(docLink);\n",
              "        }\n",
              "      </script>\n",
              "    </div>\n",
              "  </div>\n",
              "  "
            ]
          },
          "metadata": {},
          "execution_count": 40
        }
      ],
      "source": [
        "import pandas as pd\n",
        "import numpy as np\n",
        "import re\n",
        "def ENERGY():\n",
        "  energy=pd.read_excel('/content/Energy Indicators (1).xlsx')[17:]\n",
        "  del energy['Unnamed: 0']\n",
        "  del energy['Unnamed: 1']\n",
        "  energy.rename(columns={'Unnamed: 2':'Country',\t'Unnamed: 3':'Energy Supply',\t'Unnamed: 4':'Energy Supply per Capita',\t'Unnamed: 5':'% Renewable'},inplace=True)\n",
        "  energy.loc[(energy['Energy Supply']=='...'),'Energy Supply'].replace('...',np.nan)\n",
        "  energy.loc[energy['Energy Supply'].notnull()]*1000000 \n",
        "  energy['Country'].replace({\"Republic of Korea\": \"South Korea\", \"United States of America20\": \"United States\", \"United Kingdom of Great Britain and Northern Ireland19\": \"United Kingdom\", \"China, Hong Kong Special Administrative Region3\": \"Hong Kong\"},inplace=True)\n",
        "  energy.Country = energy.Country.str.replace(r\" \\(.*\\)\",\"\")\n",
        "  energy.Country = energy.Country.str.replace(r\"[0-9]\",\"\")\n",
        "  return energy\n",
        "\n",
        "def gdp():\n",
        "  GDP=pd.read_csv('/content/world_bank.csv')[3:]\n",
        "  GDP['Data Source'].replace({\"Korea, Rep.\": \"South Korea\", \"Iran, Islamic Rep.\": \"Iran\", \"Hong Kong SAR, China\": \"Hong Kong\"},inplace=True)\n",
        "  GDP.rename(columns=GDP.iloc[0],inplace=True)\n",
        "  GDP.drop(3,axis=0,inplace= True)\n",
        "  for col in GDP.select_dtypes(exclude='object').columns:\n",
        "    GDP.rename(columns={col:int(col)},inplace=True)\n",
        "  GDP.reset_index(inplace = True)\n",
        "  GDP.rename(columns={'Country Name':'Country'},inplace=True)\n",
        "  return GDP[['Country', 2006, 2007, 2008, 2009, 2010, 2011, 2012, 2013, 2014, 2015]]\n",
        "\n",
        "\n",
        "def scimen(): \n",
        "  Scimen=pd.read_excel('/content/scimagojr-3.xlsx')\n",
        "  return Scimen\n",
        "\n",
        "def answer_one():\n",
        "  energy=ENERGY()\n",
        "  GDP=gdp()\n",
        "  Scimen=scimen()\n",
        "\n",
        "  df = pd.merge(energy, GDP, on='Country', how='inner')\n",
        "  df = df.merge(Scimen,how='right', on='Country')\n",
        "  df.set_index('Country',inplace=True)\n",
        "  df=df[['Rank', 'Documents', 'Citable documents', 'Citations', 'Self-citations', 'Citations per document', 'H index', 'Energy Supply', 'Energy Supply per Capita', '% Renewable', 2006, 2007, 2008, 2009, 2010, 2011, 2012, 2013, 2014, 2015]]\n",
        "  return  df[df['Rank'] <= 15]\n",
        "\n",
        "\n",
        "answer_one()\n"
      ]
    },
    {
      "cell_type": "markdown",
      "metadata": {
        "id": "3ZjIrSE-Hrg8"
      },
      "source": [
        "### Question 2\n",
        "The previous question joined three datasets then reduced this to just the top 15 entries. When you joined the datasets, but before you reduced this to the top 15 items, how many entries did you lose?\n",
        "\n",
        "*This function should return a single number.*"
      ]
    },
    {
      "cell_type": "code",
      "execution_count": null,
      "metadata": {
        "id": "0Ija9fGZHrg9",
        "colab": {
          "base_uri": "https://localhost:8080/",
          "height": 321
        },
        "outputId": "066c977c-483a-4961-d471-7a0838e9e9df"
      },
      "outputs": [
        {
          "output_type": "display_data",
          "data": {
            "text/plain": [
              "<IPython.core.display.HTML object>"
            ],
            "text/html": [
              "<svg width=\"800\" height=\"300\">\n",
              "  <circle cx=\"150\" cy=\"180\" r=\"80\" fill-opacity=\"0.2\" stroke=\"black\" stroke-width=\"2\" fill=\"blue\" />\n",
              "  <circle cx=\"200\" cy=\"100\" r=\"80\" fill-opacity=\"0.2\" stroke=\"black\" stroke-width=\"2\" fill=\"red\" />\n",
              "  <circle cx=\"100\" cy=\"100\" r=\"80\" fill-opacity=\"0.2\" stroke=\"black\" stroke-width=\"2\" fill=\"green\" />\n",
              "  <line x1=\"150\" y1=\"125\" x2=\"300\" y2=\"150\" stroke=\"black\" stroke-width=\"2\" fill=\"black\" stroke-dasharray=\"5,3\"/>\n",
              "  <text  x=\"300\" y=\"165\" font-family=\"Verdana\" font-size=\"35\">Everything but this!</text>\n",
              "</svg>"
            ]
          },
          "metadata": {}
        }
      ],
      "source": [
        "%%HTML\n",
        "<svg width=\"800\" height=\"300\">\n",
        "  <circle cx=\"150\" cy=\"180\" r=\"80\" fill-opacity=\"0.2\" stroke=\"black\" stroke-width=\"2\" fill=\"blue\" />\n",
        "  <circle cx=\"200\" cy=\"100\" r=\"80\" fill-opacity=\"0.2\" stroke=\"black\" stroke-width=\"2\" fill=\"red\" />\n",
        "  <circle cx=\"100\" cy=\"100\" r=\"80\" fill-opacity=\"0.2\" stroke=\"black\" stroke-width=\"2\" fill=\"green\" />\n",
        "  <line x1=\"150\" y1=\"125\" x2=\"300\" y2=\"150\" stroke=\"black\" stroke-width=\"2\" fill=\"black\" stroke-dasharray=\"5,3\"/>\n",
        "  <text  x=\"300\" y=\"165\" font-family=\"Verdana\" font-size=\"35\">Everything but this!</text>\n",
        "</svg>"
      ]
    },
    {
      "cell_type": "code",
      "execution_count": null,
      "metadata": {
        "jupyter": {
          "outputs_hidden": true
        },
        "umich_part_id": "010",
        "umich_partlist_id": "003",
        "id": "OaGR1DRpHrg_",
        "colab": {
          "base_uri": "https://localhost:8080/"
        },
        "outputId": "1141f4e5-4c05-43cb-8122-71a09ee7c26a"
      },
      "outputs": [
        {
          "output_type": "stream",
          "name": "stderr",
          "text": [
            "/usr/local/lib/python3.7/dist-packages/ipykernel_launcher.py:12: FutureWarning: The default value of regex will change from True to False in a future version.\n",
            "  if sys.path[0] == '':\n",
            "/usr/local/lib/python3.7/dist-packages/ipykernel_launcher.py:13: FutureWarning: The default value of regex will change from True to False in a future version.\n",
            "  del sys.path[0]\n"
          ]
        },
        {
          "output_type": "execute_result",
          "data": {
            "text/plain": [
              "166"
            ]
          },
          "metadata": {},
          "execution_count": 19
        }
      ],
      "source": [
        "def answer_two():\n",
        "  energy=ENERGY()\n",
        "  GDP=gdp()\n",
        "  Scimen=scimen()\n",
        "  df= pd.merge(energy, GDP, on='Country', how='inner')\n",
        "  df= df.merge(Scimen,how='right', on='Country')\n",
        "   \n",
        "  dff=pd.merge(energy,GDP,how='outer')\n",
        "  dff=dff.merge(Scimen,how='outer')\n",
        "\n",
        "  diff=len(dff)-len(df)\n",
        "\n",
        "  \n",
        "\n",
        "  return diff\n",
        "\n",
        "answer_two()"
      ]
    },
    {
      "cell_type": "markdown",
      "metadata": {
        "id": "ANZ5SFrlHrg_"
      },
      "source": [
        "## Answer the following questions in the context of only the top 15 countries by Scimagojr Rank (aka the DataFrame returned by `answer_one()`)"
      ]
    },
    {
      "cell_type": "markdown",
      "metadata": {
        "id": "VG6r-hI_HrhA"
      },
      "source": [
        "### Question 3\n",
        "What is the average GDP over the last 10 years for each country? (exclude missing values from this calculation.)\n",
        "\n",
        "*This function should return a Series named `avgGDP` with 15 countries and their average GDP sorted in descending order.*"
      ]
    },
    {
      "cell_type": "code",
      "execution_count": null,
      "metadata": {
        "collapsed": true,
        "jupyter": {
          "outputs_hidden": true
        },
        "scrolled": true,
        "umich_part_id": "011",
        "umich_partlist_id": "003",
        "id": "9VF8_eqOHrhA",
        "colab": {
          "base_uri": "https://localhost:8080/"
        },
        "outputId": "a4e01505-c8c3-4681-c7f2-9feb51cb3138"
      },
      "outputs": [
        {
          "output_type": "stream",
          "name": "stderr",
          "text": [
            "/usr/local/lib/python3.7/dist-packages/ipykernel_launcher.py:12: FutureWarning: The default value of regex will change from True to False in a future version.\n",
            "  if sys.path[0] == '':\n",
            "/usr/local/lib/python3.7/dist-packages/ipykernel_launcher.py:13: FutureWarning: The default value of regex will change from True to False in a future version.\n",
            "  del sys.path[0]\n"
          ]
        },
        {
          "output_type": "execute_result",
          "data": {
            "text/plain": [
              "Country\n",
              "United States         1.536435e+13\n",
              "China                 6.348610e+12\n",
              "Japan                 5.542208e+12\n",
              "Germany               3.493026e+12\n",
              "France                2.681725e+12\n",
              "United Kingdom        2.487905e+12\n",
              "Brazil                2.189793e+12\n",
              "Italy                 2.120175e+12\n",
              "India                 1.769298e+12\n",
              "Canada                1.660648e+12\n",
              "Russian Federation    1.565459e+12\n",
              "Spain                 1.418079e+12\n",
              "Australia             1.164041e+12\n",
              "South Korea           1.106715e+12\n",
              "Iran                  4.441559e+11\n",
              "Name: avgGDP, dtype: float64"
            ]
          },
          "metadata": {},
          "execution_count": 20
        }
      ],
      "source": [
        "def answer_three():\n",
        "  Top15 = answer_one()\n",
        "  df=pd.Series(Top15[[ 2006, 2007, 2008, 2009, 2010, 2011, 2012, 2013, 2014, 2015]].mean(axis=1),name='avgGDP')\n",
        "  return df.sort_values(ascending=False).head(15)\n",
        "  \n",
        "\n",
        "\n",
        "answer_three()"
      ]
    },
    {
      "cell_type": "markdown",
      "metadata": {
        "id": "oRp4pxMOHrhB"
      },
      "source": [
        "### Question 4\n",
        "By how much had the GDP changed over the 10 year span for the country with the 6th largest average GDP?\n",
        "\n",
        "*This function should return a single number.*"
      ]
    },
    {
      "cell_type": "code",
      "execution_count": null,
      "metadata": {
        "jupyter": {
          "outputs_hidden": true
        },
        "scrolled": true,
        "umich_part_id": "012",
        "umich_partlist_id": "003",
        "id": "sErpEUvnHrhB",
        "colab": {
          "base_uri": "https://localhost:8080/"
        },
        "outputId": "cb0154fe-52c3-402d-d236-35a64ca90ba0"
      },
      "outputs": [
        {
          "output_type": "stream",
          "name": "stderr",
          "text": [
            "/usr/local/lib/python3.7/dist-packages/ipykernel_launcher.py:12: FutureWarning: The default value of regex will change from True to False in a future version.\n",
            "  if sys.path[0] == '':\n",
            "/usr/local/lib/python3.7/dist-packages/ipykernel_launcher.py:13: FutureWarning: The default value of regex will change from True to False in a future version.\n",
            "  del sys.path[0]\n"
          ]
        },
        {
          "output_type": "execute_result",
          "data": {
            "text/plain": [
              "246700000000.0"
            ]
          },
          "metadata": {},
          "execution_count": 21
        }
      ],
      "source": [
        "def answer_four():\n",
        "    Top15 = answer_one()\n",
        "    Top15['top']=Top15[2015]-Top15[2006]\n",
        "    Top15['AVERAGE']=Top15[[ 2006, 2007, 2008, 2009, 2010, 2011, 2012, 2013, 2014, 2015]].mean(axis=1)\n",
        "    # h=average.sort_values(ascending=False).iloc[5,]\n",
        "    answer=Top15.sort_values('AVERAGE',ascending=False).iloc[5,]\n",
        "\n",
        "\n",
        "    \n",
        "    return answer['top']\n",
        "\n",
        "answer_four()"
      ]
    },
    {
      "cell_type": "code",
      "source": [],
      "metadata": {
        "id": "QLVgpshUYoPz"
      },
      "execution_count": null,
      "outputs": []
    },
    {
      "cell_type": "markdown",
      "metadata": {
        "id": "MHQVh1uZHrhC"
      },
      "source": [
        "### Question 5\n",
        "What is the mean `Energy Supply per Capita`?\n",
        "\n",
        "*This function should return a single number.*"
      ]
    },
    {
      "cell_type": "code",
      "execution_count": null,
      "metadata": {
        "collapsed": true,
        "jupyter": {
          "outputs_hidden": true
        },
        "umich_part_id": "013",
        "umich_partlist_id": "003",
        "id": "ULdfuRV8HrhC",
        "colab": {
          "base_uri": "https://localhost:8080/"
        },
        "outputId": "2664bfe9-327a-4d71-d052-c4a8417f2ec4"
      },
      "outputs": [
        {
          "output_type": "stream",
          "name": "stderr",
          "text": [
            "/usr/local/lib/python3.7/dist-packages/ipykernel_launcher.py:12: FutureWarning: The default value of regex will change from True to False in a future version.\n",
            "  if sys.path[0] == '':\n",
            "/usr/local/lib/python3.7/dist-packages/ipykernel_launcher.py:13: FutureWarning: The default value of regex will change from True to False in a future version.\n",
            "  del sys.path[0]\n"
          ]
        },
        {
          "output_type": "execute_result",
          "data": {
            "text/plain": [
              "157.6"
            ]
          },
          "metadata": {},
          "execution_count": 22
        }
      ],
      "source": [
        "def answer_five():\n",
        "    Top15 = answer_one()\n",
        "    m=Top15['Energy Supply per Capita'].mean()\n",
        "    return m\n",
        "answer_five()"
      ]
    },
    {
      "cell_type": "markdown",
      "metadata": {
        "id": "nbxJRrV7HrhD"
      },
      "source": [
        "### Question 6\n",
        "What country has the maximum % Renewable and what is the percentage?\n",
        "\n",
        "*This function should return a tuple with the name of the country and the percentage.*"
      ]
    },
    {
      "cell_type": "code",
      "execution_count": null,
      "metadata": {
        "collapsed": true,
        "jupyter": {
          "outputs_hidden": true
        },
        "umich_part_id": "014",
        "umich_partlist_id": "003",
        "id": "SMtXQITCHrhD"
      },
      "outputs": [],
      "source": [
        "def answer_six():\n",
        "    Top15 = answer_one()\n",
        "    x=Top15['% Renewable'].idxmax()\n",
        "    y=Top15['% Renewable'].max()\n",
        "    return x,y\n",
        "answer_six()"
      ]
    },
    {
      "cell_type": "markdown",
      "metadata": {
        "id": "Khx-fX3oHrhE"
      },
      "source": [
        "### Question 7\n",
        "Create a new column that is the ratio of Self-Citations to Total Citations. \n",
        "What is the maximum value for this new column, and what country has the highest ratio?\n",
        "\n",
        "*This function should return a tuple with the name of the country and the ratio.*"
      ]
    },
    {
      "cell_type": "code",
      "execution_count": null,
      "metadata": {
        "collapsed": true,
        "jupyter": {
          "outputs_hidden": true
        },
        "umich_part_id": "015",
        "umich_partlist_id": "003",
        "id": "Q2-Moa9MHrhE",
        "colab": {
          "base_uri": "https://localhost:8080/"
        },
        "outputId": "273a02ba-c4b4-4015-cfa0-2703d293f393"
      },
      "outputs": [
        {
          "output_type": "stream",
          "name": "stderr",
          "text": [
            "/usr/local/lib/python3.7/dist-packages/ipykernel_launcher.py:12: FutureWarning: The default value of regex will change from True to False in a future version.\n",
            "  if sys.path[0] == '':\n",
            "/usr/local/lib/python3.7/dist-packages/ipykernel_launcher.py:13: FutureWarning: The default value of regex will change from True to False in a future version.\n",
            "  del sys.path[0]\n"
          ]
        },
        {
          "output_type": "execute_result",
          "data": {
            "text/plain": [
              "('China', 0.6893126179389422)"
            ]
          },
          "metadata": {},
          "execution_count": 24
        }
      ],
      "source": [
        "def answer_seven():\n",
        "    Top15 = answer_one()\n",
        "\n",
        "    Top15['citation_ratio'] = Top15['Self-citations']/Top15['Citations']\n",
        "    \n",
        "    r1= Top15['citation_ratio'].idxmax()\n",
        "    r2=Top15['citation_ratio'].max()\n",
        "    return r1 ,r2\n",
        "answer_seven()"
      ]
    },
    {
      "cell_type": "markdown",
      "metadata": {
        "id": "MZxYG2PnHrhF"
      },
      "source": [
        "### Question 8\n",
        "\n",
        "Create a column that estimates the population using Energy Supply and Energy Supply per capita. \n",
        "What is the third most populous country according to this estimate?\n",
        "\n",
        "*This function should return a single string value.*"
      ]
    },
    {
      "cell_type": "code",
      "execution_count": null,
      "metadata": {
        "collapsed": true,
        "jupyter": {
          "outputs_hidden": true
        },
        "umich_part_id": "016",
        "umich_partlist_id": "003",
        "id": "KiObJc-cHrhF",
        "colab": {
          "base_uri": "https://localhost:8080/",
          "height": 109
        },
        "outputId": "a68a5d11-4323-4add-bf26-660225c10c3b"
      },
      "outputs": [
        {
          "output_type": "stream",
          "name": "stderr",
          "text": [
            "/usr/local/lib/python3.7/dist-packages/ipykernel_launcher.py:12: FutureWarning: The default value of regex will change from True to False in a future version.\n",
            "  if sys.path[0] == '':\n",
            "/usr/local/lib/python3.7/dist-packages/ipykernel_launcher.py:13: FutureWarning: The default value of regex will change from True to False in a future version.\n",
            "  del sys.path[0]\n"
          ]
        },
        {
          "output_type": "execute_result",
          "data": {
            "text/plain": [
              "'United States'"
            ],
            "application/vnd.google.colaboratory.intrinsic+json": {
              "type": "string"
            }
          },
          "metadata": {},
          "execution_count": 25
        }
      ],
      "source": [
        "def answer_eight():\n",
        "    Top15 = answer_one()\n",
        "    Top15['population'] = Top15['Energy Supply'] / Top15['Energy Supply per Capita']\n",
        "    return Top15['population'].sort_values(ascending=False).index[2]\n",
        "\n",
        "answer_eight()"
      ]
    },
    {
      "cell_type": "markdown",
      "metadata": {
        "id": "hgHqOe2oHrhF"
      },
      "source": [
        "### Question 9\n",
        "Create a column that estimates the number of citable documents per person. \n",
        "What is the correlation between the number of citable documents per capita and the energy supply per capita? Use the `.corr()` method, (Pearson's correlation).\n",
        "\n",
        "*This function should return a single number.*\n",
        "\n",
        "*(Optional: Use the built-in function `plot9()` to visualize the relationship between Energy Supply per Capita vs. Citable docs per Capita)*"
      ]
    },
    {
      "cell_type": "code",
      "execution_count": null,
      "metadata": {
        "collapsed": true,
        "jupyter": {
          "outputs_hidden": true
        },
        "umich_part_id": "017",
        "umich_partlist_id": "003",
        "id": "eMqMiV6sHrhG"
      },
      "outputs": [],
      "source": [
        "def answer_nine():\n",
        "  Top15 = answer_one()\n",
        "  Top15['population'] = Top15['Energy Supply'] / Top15['Energy Supply per Capita']    \n",
        "  Top15['cit document']=Top15['Citable documents']/Top15['population']\n",
        "  # return Top15.corr(method='pearson')\n",
        "  return   Top15[['cit document','Energy Supply per Capita']].corr(method='pearson').loc['cit document','Energy Supply per Capita']\n",
        "\n",
        "answer_nine()\n"
      ]
    },
    {
      "cell_type": "code",
      "execution_count": null,
      "metadata": {
        "collapsed": true,
        "jupyter": {
          "outputs_hidden": true
        },
        "id": "j2Av7aN5HrhH"
      },
      "outputs": [],
      "source": [
        "def plot9():\n",
        "    import matplotlib as plt\n",
        "    %matplotlib inline\n",
        "    \n",
        "    Top15 = answer_one()\n",
        "    Top15['PopEst'] = Top15['Energy Supply'] / Top15['Energy Supply per Capita']\n",
        "    Top15['Citable docs per Capita'] = Top15['Citable documents'] / Top15['PopEst']\n",
        "    Top15.plot(x='Citable docs per Capita', y='Energy Supply per Capita', kind='scatter', xlim=[0, 0.0006])"
      ]
    },
    {
      "cell_type": "code",
      "execution_count": null,
      "metadata": {
        "collapsed": true,
        "jupyter": {
          "outputs_hidden": true
        },
        "id": "rHyMiTbuHrhH"
      },
      "outputs": [],
      "source": [
        "#plot9() # Be sure to comment out plot9() before submitting the assignment!"
      ]
    },
    {
      "cell_type": "markdown",
      "metadata": {
        "id": "K3lXSjtRHrhI"
      },
      "source": [
        "### Question 10\n",
        "Create a new column with a 1 if the country's % Renewable value is at or above the median for all countries in the top 15, and a 0 if the country's % Renewable value is below the median.\n",
        "\n",
        "*This function should return a series named `HighRenew` whose index is the country name sorted in ascending order of rank.*"
      ]
    },
    {
      "cell_type": "code",
      "execution_count": null,
      "metadata": {
        "collapsed": true,
        "jupyter": {
          "outputs_hidden": true
        },
        "umich_part_id": "018",
        "umich_partlist_id": "003",
        "id": "kMk189ovHrhI"
      },
      "outputs": [],
      "source": [
        "def answer_ten():\n",
        "    Top15 = answer_one()\n",
        "    return \"ANSWER\""
      ]
    },
    {
      "cell_type": "markdown",
      "metadata": {
        "id": "SozTTJLjHrhI"
      },
      "source": [
        "### Question 11\n",
        "Use the following dictionary to group the Countries by Continent, then create a dateframe that displays the sample size (the number of countries in each continent bin), and the sum, mean, and std deviation for the estimated population of each country.\n",
        "\n",
        "```python\n",
        "ContinentDict  = {'China':'Asia', \n",
        "                  'United States':'North America', \n",
        "                  'Japan':'Asia', \n",
        "                  'United Kingdom':'Europe', \n",
        "                  'Russian Federation':'Europe', \n",
        "                  'Canada':'North America', \n",
        "                  'Germany':'Europe', \n",
        "                  'India':'Asia',\n",
        "                  'France':'Europe', \n",
        "                  'South Korea':'Asia', \n",
        "                  'Italy':'Europe', \n",
        "                  'Spain':'Europe', \n",
        "                  'Iran':'Asia',\n",
        "                  'Australia':'Australia', \n",
        "                  'Brazil':'South America'}\n",
        "```\n",
        "\n",
        "*This function should return a DataFrame with index named Continent `['Asia', 'Australia', 'Europe', 'North America', 'South America']` and columns `['size', 'sum', 'mean', 'std']`*"
      ]
    },
    {
      "cell_type": "code",
      "execution_count": null,
      "metadata": {
        "collapsed": true,
        "jupyter": {
          "outputs_hidden": true
        },
        "umich_part_id": "019",
        "umich_partlist_id": "003",
        "id": "9kPfYhDvHrhJ"
      },
      "outputs": [],
      "source": [
        "def answer_eleven():\n",
        "    Top15 = answer_one()\n",
        "    return \"ANSWER\""
      ]
    },
    {
      "cell_type": "markdown",
      "metadata": {
        "id": "ASicpEBPHrhJ"
      },
      "source": [
        "### Question 12\n",
        "Cut % Renewable into 5 bins. Group Top15 by the Continent, as well as these new % Renewable bins. How many countries are in each of these groups?\n",
        "\n",
        "*This function should return a __Series__ with a MultiIndex of `Continent`, then the bins for `% Renewable`. Do not include groups with no countries.*"
      ]
    },
    {
      "cell_type": "code",
      "execution_count": null,
      "metadata": {
        "collapsed": true,
        "jupyter": {
          "outputs_hidden": true
        },
        "scrolled": true,
        "id": "tcIgbyIaHrhK"
      },
      "outputs": [],
      "source": [
        "def answer_twelve():\n",
        "    Top15 = answer_one()\n",
        "    return \"ANSWER\""
      ]
    },
    {
      "cell_type": "markdown",
      "metadata": {
        "id": "8tDPK7nkHrhK"
      },
      "source": [
        "### Question 13\n",
        "Convert the Population Estimate series to a string with thousands separator (using commas). Do not round the results.\n",
        "\n",
        "e.g. 317615384.61538464 -> 317,615,384.61538464\n",
        "\n",
        "*This function should return a Series `PopEst` whose index is the country name and whose values are the population estimate string.*"
      ]
    },
    {
      "cell_type": "code",
      "execution_count": 1,
      "metadata": {
        "collapsed": true,
        "jupyter": {
          "outputs_hidden": true
        },
        "scrolled": true,
        "umich_part_id": "020",
        "umich_partlist_id": "003",
        "id": "mQYMUIh3HrhK"
      },
      "outputs": [],
      "source": [
        "def answer_thirteen():\n",
        "    Top15 = answer_one()\n",
        "    return \"ANSWER\""
      ]
    },
    {
      "cell_type": "markdown",
      "metadata": {
        "id": "ipFqV1b_HrhL"
      },
      "source": [
        "### Optional\n",
        "\n",
        "Use the built in function `plot_optional()` to see an example visualization."
      ]
    },
    {
      "cell_type": "code",
      "execution_count": null,
      "metadata": {
        "scrolled": true,
        "id": "GpUE7DIQHrhL"
      },
      "outputs": [],
      "source": [
        "def plot_optional():\n",
        "    import matplotlib as plt\n",
        "    %matplotlib inline\n",
        "    Top15 = answer_one()\n",
        "    ax = Top15.plot(x='Rank', y='% Renewable', kind='scatter', \n",
        "                    c=['#e41a1c','#377eb8','#e41a1c','#4daf4a','#4daf4a','#377eb8','#4daf4a','#e41a1c',\n",
        "                       '#4daf4a','#e41a1c','#4daf4a','#4daf4a','#e41a1c','#dede00','#ff7f00'], \n",
        "                    xticks=range(1,16), s=6*Top15['2014']/10**10, alpha=.75, figsize=[16,6]);\n",
        "\n",
        "    for i, txt in enumerate(Top15.index):\n",
        "        ax.annotate(txt, [Top15['Rank'][i], Top15['% Renewable'][i]], ha='center')\n",
        "\n",
        "    print(\"This is an example of a visualization that can be created to help understand the data. \\\n",
        "This is a bubble chart showing % Renewable vs. Rank. The size of the bubble corresponds to the countries' \\\n",
        "2014 GDP, and the color corresponds to the continent.\")"
      ]
    },
    {
      "cell_type": "markdown",
      "metadata": {
        "id": "8JIeSBjvHrhM"
      },
      "source": [
        "#### Solutions\n",
        "\n",
        "Hope learnt something new while doing this assigment. You can find the solutions [here](Assignment_2Solution.ipynb)."
      ]
    }
  ],
  "metadata": {
    "anaconda-cloud": {},
    "coursera": {
      "course_slug": "python-data-analysis",
      "graded_item_id": "zAr06",
      "launcher_item_id": "KSSjT",
      "part_id": "SL3fU"
    },
    "kernelspec": {
      "display_name": "Python 3",
      "language": "python",
      "name": "python3"
    },
    "language_info": {
      "codemirror_mode": {
        "name": "ipython",
        "version": 3
      },
      "file_extension": ".py",
      "mimetype": "text/x-python",
      "name": "python",
      "nbconvert_exporter": "python",
      "pygments_lexer": "ipython3",
      "version": "3.7.4"
    },
    "umich": {
      "id": "Assignment 3",
      "version": "1.5"
    },
    "colab": {
      "provenance": [],
      "collapsed_sections": [
        "oRp4pxMOHrhB",
        "MHQVh1uZHrhC",
        "nbxJRrV7HrhD",
        "Khx-fX3oHrhE",
        "MZxYG2PnHrhF",
        "hgHqOe2oHrhF",
        "K3lXSjtRHrhI",
        "SozTTJLjHrhI",
        "ASicpEBPHrhJ",
        "8tDPK7nkHrhK",
        "ipFqV1b_HrhL",
        "8JIeSBjvHrhM"
      ],
      "include_colab_link": true
    }
  },
  "nbformat": 4,
  "nbformat_minor": 0
}