{
  "cells": [
    {
      "cell_type": "markdown",
      "metadata": {
        "id": "view-in-github",
        "colab_type": "text"
      },
      "source": [
        "<a href=\"https://colab.research.google.com/github/vaishnavi-patil05/Python/blob/main/contact_app.ipynb\" target=\"_parent\"><img src=\"https://colab.research.google.com/assets/colab-badge.svg\" alt=\"Open In Colab\"/></a>"
      ]
    },
    {
      "cell_type": "markdown",
      "metadata": {
        "id": "wfcD1lRxsSyi"
      },
      "source": [
        "# Contact app\n",
        "\n",
        "You have learnt a lot of new things; data structures, string, regex & files. Lets use all our newly acquired knowledge to build a **contact app**, just like the ones in our smartphone.\n",
        "\n",
        "We will not be building a fancy UI, instead we will focus on understanding the programming logic.\n",
        "\n",
        "Lets get started!\n",
        "\n",
        "Think of all the features that your contact app has . . . !\n",
        "- It can show you all the contact names\n",
        "- You can search for contacts (using name)\n",
        "- You can see all the information associated with the contact\n",
        "- You can delete and update contacts\n",
        "\n",
        "Can you think of anything more ? Our contact app should have at least these features. \n",
        "- The app should show us all the contact names\n",
        "- It should allow us to select a contact and view all the information associated with the contact\n",
        "- It should allow us to update contact info & delete contact\n",
        "- Finally, it should show us all the contact names\n",
        "\n",
        "For every contact, we will store the `name`, `number` & `email`. "
      ]
    },
    {
      "cell_type": "markdown",
      "metadata": {
        "id": "9JQxZ3MVsSyq"
      },
      "source": [
        "### Data Structure\n",
        "The very first thing that we need to decide is \"What data structure to use?\"\n",
        "\n",
        "To store all the contacts, we can use a list of dictionaries; were each dictionary stores the `name`, `number` & `email`  of the contact. \n",
        "\n",
        "Create a list of dictionaries called `contacts` with 3 dummy contacts.  "
      ]
    },
    {
      "cell_type": "code",
      "execution_count": null,
      "metadata": {
        "id": "VbWxlYUzsSyr"
      },
      "outputs": [],
      "source": [
        "contacts=[{'name':'vivek','email': \"vivek@gmail.com\", 'number':'9921668254'},{'name':'ankur','email': 'ankur@gmail.com','number': '8806807004'},{'name':'pranav', 'email':'pranav@gmail.com','number': '987654321'}]"
      ]
    },
    {
      "cell_type": "markdown",
      "metadata": {
        "id": "a4n09aOOsSys"
      },
      "source": [
        "### List all contact names\n",
        "Write `show_contacts` function that takes the `contacts` list and prints all the contact names. These names will help us to select the contact later."
      ]
    },
    {
      "cell_type": "code",
      "execution_count": null,
      "metadata": {
        "id": "lvET4AjUsSyt"
      },
      "outputs": [],
      "source": [
        "def show_contacts(contacts):\n",
        "  for contact in contacts:\n",
        "    print(contact['name'])\n",
        "\n"
      ]
    },
    {
      "cell_type": "code",
      "execution_count": null,
      "metadata": {
        "colab": {
          "base_uri": "https://localhost:8080/"
        },
        "id": "sVutgs1nsSyu",
        "outputId": "09327f4a-07d1-4a07-a26a-897f6305f114"
      },
      "outputs": [
        {
          "output_type": "stream",
          "name": "stdout",
          "text": [
            "vivek\n",
            "ankur\n",
            "pranav\n"
          ]
        }
      ],
      "source": [
        "show_contacts(contacts)"
      ]
    },
    {
      "cell_type": "markdown",
      "metadata": {
        "id": "amNGMlVssSyu"
      },
      "source": [
        "### Add a new Contact\n",
        "\n",
        "Write `add_contact` function that takes user input and *adds new contact* dictionary to the existing list of `contacts`."
      ]
    },
    {
      "cell_type": "code",
      "execution_count": null,
      "metadata": {
        "id": "VsfDW4assSyv"
      },
      "outputs": [],
      "source": [
        "def add_contact(contacts):\n",
        "  c={}\n",
        "  c['name']=input('enter name')\n",
        "  c['email']=input('enter email')\n",
        "  c['number']=int(input())\n",
        "  contacts.append(c)\n",
        "  print(contacts)\n"
      ]
    },
    {
      "cell_type": "code",
      "execution_count": null,
      "metadata": {
        "colab": {
          "base_uri": "https://localhost:8080/"
        },
        "id": "IkqP8PclsSyw",
        "outputId": "e390bd3b-101a-49cc-ef98-a14a800a2fa3"
      },
      "outputs": [
        {
          "output_type": "stream",
          "name": "stdout",
          "text": [
            "enter namevaishnavi\n",
            "enter emailvaishnavi1@gmail.com\n",
            "1234567809\n",
            "[{'name': 'vivek', 'email': 'vivek@gmail.com', 'number': '9921668254'}, {'name': 'ankur', 'email': 'ankur@gmail.com', 'number': '8806807004'}, {'name': 'pranav', 'email': 'pranav@gmail.com', 'number': '987654321'}, {'name': 'vaishnavi', 'email': 'vaishnavi1@gmail.com', 'number': 1234567809}]\n"
          ]
        }
      ],
      "source": [
        "add_contact(contacts)"
      ]
    },
    {
      "cell_type": "markdown",
      "metadata": {
        "id": "0RFRGOxdsSyx"
      },
      "source": [
        "### Delete Contact\n",
        "\n",
        "Write `delete_contact` function to delete an existing contact by providing `name` of the contact which we want to delete."
      ]
    },
    {
      "cell_type": "code",
      "execution_count": null,
      "metadata": {
        "id": "b9Pk5U0lsSyx"
      },
      "outputs": [],
      "source": [
        "def delete_contact(contacts, name):\n",
        "  for i in contacts:\n",
        "    if name in i.values():\n",
        "      contacts.remove(i)\n",
        "      print(contacts)"
      ]
    },
    {
      "cell_type": "code",
      "source": [
        "delete_contact(contacts,'vaishnavi')"
      ],
      "metadata": {
        "colab": {
          "base_uri": "https://localhost:8080/"
        },
        "id": "uSDxbszbOdvt",
        "outputId": "cc79a7d0-8c58-468b-f4de-ce1dd18461d3"
      },
      "execution_count": null,
      "outputs": [
        {
          "output_type": "stream",
          "name": "stdout",
          "text": [
            "[{'name': 'vivek', 'email': 'vivek@gmail.com', 'number': '9921668254'}, {'name': 'ankur', 'email': 'ankur@gmail.com', 'number': '8806807004'}, {'name': 'pranav', 'email': 'pranav@gmail.com', 'number': '987654321'}]\n"
          ]
        }
      ]
    },
    {
      "cell_type": "code",
      "source": [
        "# contacts=[{'name':'vivek','email': \"vivek@gmail.com\", 'number':'9921668254'},{'name':'ankur','email': 'ankur@gmail.com','number': '8806807004'},{'name':'pranav', 'email':'pranav@gmail.com','number': '987654321'}]\n",
        "# for i in contacts:\n",
        "#   if i['name']=='pranav':\n",
        "#     contacts.remove(i)\n",
        "#     print(contacts)"
      ],
      "metadata": {
        "id": "5b_OL1auTcLr"
      },
      "execution_count": null,
      "outputs": []
    },
    {
      "cell_type": "markdown",
      "metadata": {
        "id": "Fz3tn_U_sSyy"
      },
      "source": [
        "### Update Contact details\n",
        "\n",
        "Let's write `update_contact` function which will *update contact details* such as `name`, `email` & `number`. \n",
        "The functions should take `contacts` and `name` as arguments. It should also print the newly added contact."
      ]
    },
    {
      "cell_type": "code",
      "execution_count": null,
      "metadata": {
        "id": "nYuTnjMSsSyz"
      },
      "outputs": [],
      "source": [
        "def update_contact(contacts, name):\n",
        "  for j in contacts:\n",
        "    if name in j.values():\n",
        "      j['email']=input('enter new email')\n",
        "      j['number']=int(input('enter new number'))\n",
        "      print(contacts)\n"
      ]
    },
    {
      "cell_type": "code",
      "execution_count": null,
      "metadata": {
        "colab": {
          "base_uri": "https://localhost:8080/"
        },
        "id": "0maGRqsksSyz",
        "outputId": "1a3c799d-34c7-4960-dac8-f43602d313bd"
      },
      "outputs": [
        {
          "output_type": "stream",
          "name": "stdout",
          "text": [
            "enter new emailvivek1@gmail.com\n",
            "enter new number0987654321\n",
            "[{'name': 'vivek', 'email': 'vivek1@gmail.com', 'number': 987654321}, {'name': 'ankur', 'email': 'ankur@gmail.com', 'number': '8806807004'}, {'name': 'pranav', 'email': 'pranav@gmail.com', 'number': '987654321'}]\n"
          ]
        }
      ],
      "source": [
        "update_contact(contacts, 'vivek')"
      ]
    },
    {
      "cell_type": "markdown",
      "metadata": {
        "id": "iTOZG1oFsSyz"
      },
      "source": [
        "### Open Contact \n",
        "`open_contact` function takes the `contacts` list and a `name` string as input. It prints the contact details if `name` matches some contact name in the `contacts` list, else prints `No match found!`.\n",
        "\n",
        "**Note:** The functions should be case insensitive. "
      ]
    },
    {
      "cell_type": "code",
      "execution_count": null,
      "metadata": {
        "id": "ojz6b2lYsSy0"
      },
      "outputs": [],
      "source": [
        "def open_contact(contacts, name):\n",
        "  for n in contacts:\n",
        "    if name in n.values():\n",
        "      print(n)\n",
        "    else:\n",
        "      print('No match found!')\n",
        "      \n"
      ]
    },
    {
      "cell_type": "code",
      "execution_count": null,
      "metadata": {
        "colab": {
          "base_uri": "https://localhost:8080/"
        },
        "id": "n6TB9OSvsSy0",
        "outputId": "a0679da6-b996-417b-d64c-3f5a02cb4a71"
      },
      "outputs": [
        {
          "output_type": "stream",
          "name": "stdout",
          "text": [
            "No match found!\n",
            "No match found!\n",
            "{'name': 'pranav', 'email': 'pranav@gmail.com', 'number': '987654321'}\n"
          ]
        }
      ],
      "source": [
        "open_contact(contacts, 'pranav')"
      ]
    },
    {
      "cell_type": "markdown",
      "metadata": {
        "id": "NycCE_MusSy0"
      },
      "source": [
        "We often see *update* & *delete* options after we open a particular contact. It would be great if we can also implement the same. \n",
        "\n",
        "After opening the contact, the program should wait for user input. The user can press `u` to update & `d` delete contact. Any other key press should be ignored\n",
        "\n",
        "Write the updated `open_contact` function below"
      ]
    },
    {
      "cell_type": "code",
      "execution_count": null,
      "metadata": {
        "id": "u344Rw8FsSy1"
      },
      "outputs": [],
      "source": [
        "def open_contact(contacts, name):\n",
        "  a=input('enter u to update & d to delete contact')\n",
        "  if a=='u':\n",
        "    update_contact(contacts, name=input())\n",
        "  elif a=='d':\n",
        "      delete_contact(contacts, name=input())\n",
        "\n",
        "\n",
        "\n"
      ]
    },
    {
      "cell_type": "code",
      "execution_count": null,
      "metadata": {
        "id": "pupZTGyIsSy1"
      },
      "outputs": [],
      "source": [
        "open_contact(contacts, name)"
      ]
    },
    {
      "cell_type": "markdown",
      "metadata": {
        "id": "0N81-tazsSy1"
      },
      "source": [
        "### Complete application (using all the above functions in use)\n",
        "\n",
        "We will use an infinite loop to encapsulate our application logic and break only when `q` is pressed. We will use `clear_output()` function from `IPython.display` to clear the output before printing anything new.\n",
        "\n",
        "Below is the pseudo-code to help you build the application logic."
      ]
    },
    {
      "cell_type": "code",
      "execution_count": null,
      "metadata": {
        "id": "dIit8-9AsSy2"
      },
      "outputs": [],
      "source": [
        "\n",
        "from IPython.display import clear_output\n",
        "\n",
        "while True:\n",
        "    \n",
        "    contacts=[{'name':'vivek','email': \"vivek@gmail.com\", 'number':'9921668254'},{'name':'ankur','email': 'ankur@gmail.com','number': '8806807004'},{'name':'pranav', 'email':'pranav@gmail.com','number': '987654321'}]\n",
        "    \n",
        "    action = input(\"Press 'a' - add contact, 'o' - open contact, 's' - search contact, 'q' - quit\")\n",
        "    if action == 'a':\n",
        "      add_contact(contacts)\n",
        "    elif action == 'o':\n",
        "        name = input(\"Enter name of the contact you want to open. \")        \n",
        "        open_contact(contacts, name)\n",
        "    elif action=='s':\n",
        "      show_contacts(contacts)\n",
        "    elif action == 'q':\n",
        "        break\n",
        "    else:\n",
        "        print ('incorrect choice')\n",
        "\n",
        "    # clear_output()"
      ]
    },
    {
      "cell_type": "markdown",
      "metadata": {
        "id": "slalilPXsSy2"
      },
      "source": [
        "## Using files\n",
        "\n",
        "One major problem with the above approach is \"persistent storage\". Every time you close this notebook, all the new contacts are lost. This happens because `contacts` is a python variable. Its lives inside python session. As soon as the session is killed/terminated, all the varibles are also deleted.\n",
        "\n",
        "To address this problem, we will have to use save the contacts in a disk. What better reason to use files? Instead of using *list of dictionary*, use file to save the contacts. \n",
        "\n",
        "Save every new contact in a new-line and use \" , \" to separate the contact fields. This is how the above contacts should look, when saved in a file.\n",
        "\n",
        "```text\n",
        "vivek, vivek@gmail.com, 9921668254\n",
        "ankur, ankur@gmail.com, 8806807004\n",
        "pranav, pranav@gmail.com, 987654321\n",
        "```\n",
        "\n",
        "You task is to make appropriate changes to the above code to use `contacts.txt` instead of using `contacts` list."
      ]
    },
    {
      "cell_type": "markdown",
      "metadata": {
        "id": "FW6nIPfIsSy3"
      },
      "source": [
        "## Using Regex\n",
        "\n",
        "Yet another problem with our app is \"lack of validation\". While creating a new contact, user is free to enter anything. But why is that a problem? \n",
        "\n",
        "**Input validation** is important to ensure only properly formed data is entering the workflow in an information system, preventing malformed data from persisting in the database and triggering malfunction of various downstream components. Input validation should happen as early as possible in the data flow, preferably as soon as the data is received. [source](https://cheatsheetseries.owasp.org/cheatsheets/Input_Validation_Cheat_Sheet.html)\n",
        "\n",
        "The above paragraph is the complete gist of Input validation. Read it again & ponder for a minute. Its an important concept when building customer facing applications. We would highly recommend you to Google and read more about it.  \n",
        "\n",
        "Use regular expression to validate user input (before you save it to the file). Implement the following:\n",
        "- `Name` should be all alphabets. \" \" should also be allowed.\n",
        "- For `email` refer regex chapter from course material.\n",
        "- `Number` should have 10 digits. Not less, not more. Also, not alphabets should be allowed.\n",
        "- Add a new field `DOB` to each contact. It should follow YYYY-MM-DD format. Then write a regular expression to validate it. Remember, date & month cannot be greater that 31 & 12, respectively. \n",
        "\n",
        "Can you think of any more validations?"
      ]
    },
    {
      "cell_type": "markdown",
      "metadata": {
        "id": "SaR9ffm-sSy3"
      },
      "source": [
        "We really hope you had a wonderful time building this applications. This is how applications are developed in really life. You start with a set of basic functionalities and then you keep adding new features (like persistent storage & validation). As the application grows in size, you might encounter new problems to solve."
      ]
    }
  ],
  "metadata": {
    "kernelspec": {
      "display_name": "Python 3",
      "language": "python",
      "name": "python3"
    },
    "language_info": {
      "codemirror_mode": {
        "name": "ipython",
        "version": 3
      },
      "file_extension": ".py",
      "mimetype": "text/x-python",
      "name": "python",
      "nbconvert_exporter": "python",
      "pygments_lexer": "ipython3",
      "version": "3.7.4"
    },
    "toc": {
      "base_numbering": 1,
      "nav_menu": {},
      "number_sections": true,
      "sideBar": true,
      "skip_h1_title": false,
      "title_cell": "Table of Contents",
      "title_sidebar": "Contents",
      "toc_cell": false,
      "toc_position": {},
      "toc_section_display": true,
      "toc_window_display": false
    },
    "colab": {
      "provenance": [],
      "include_colab_link": true
    }
  },
  "nbformat": 4,
  "nbformat_minor": 0
}